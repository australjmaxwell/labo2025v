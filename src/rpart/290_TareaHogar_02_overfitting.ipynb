{
  "nbformat": 4,
  "nbformat_minor": 0,
  "metadata": {
    "colab": {
      "provenance": [],
      "include_colab_link": true
    },
    "kernelspec": {
      "name": "ir",
      "display_name": "R"
    },
    "language_info": {
      "name": "R"
    }
  },
  "cells": [
    {
      "cell_type": "markdown",
      "metadata": {
        "id": "view-in-github",
        "colab_type": "text"
      },
      "source": [
        "<a href=\"https://colab.research.google.com/github/australjmaxwell/labo2025v/blob/main/src/rpart/290_TareaHogar_02_overfitting.ipynb\" target=\"_parent\"><img src=\"https://colab.research.google.com/assets/colab-badge.svg\" alt=\"Open In Colab\"/></a>"
      ]
    },
    {
      "cell_type": "markdown",
      "source": [
        "# Tarea para el Hogar 02"
      ],
      "metadata": {
        "id": "F3r8aa3pBigj"
      }
    },
    {
      "cell_type": "markdown",
      "source": [
        "Esta Tarea para el Hogar 02 se entrega el final de la segunda clase\n",
        "<br> se espera de usted que intente avanzar con los desafios propuestos y que los traiga terminados para la Clase 03, ya que se analizarán los resultados"
      ],
      "metadata": {
        "id": "nBm4ktHUBmZt"
      }
    },
    {
      "cell_type": "markdown",
      "source": [
        "##  1. Ensembles de Modelos"
      ],
      "metadata": {
        "id": "TK-M04ElCESC"
      }
    },
    {
      "cell_type": "markdown",
      "source": [
        "Vea el siguiente video [BBC - The Code - The Wisdom of the Crowd](https://www.youtube.com/watch?v=iOucwX7Z1HU)    ( 5 min)\n"
      ],
      "metadata": {
        "id": "biPYxgobCOSS"
      }
    },
    {
      "cell_type": "markdown",
      "source": [
        "Lea los siguientes artículos\n",
        "\n",
        "\n",
        "*   [The Wisdom of Crowds (Vox Populi) by Francis Galton](https://www.all-about-psychology.com/the-wisdom-of-crowds.html)  (10 min)\n",
        "*   [A Gentle Introduction to Ensemble Learning](https://machinelearningmastery.com/what-is-ensemble-learning/)  (10 min)\n",
        "\n"
      ],
      "metadata": {
        "id": "FBszBRyNCcjp"
      }
    },
    {
      "cell_type": "markdown",
      "source": [
        "\n",
        "\n",
        "---\n",
        "\n"
      ],
      "metadata": {
        "id": "x7SebtV2lpHQ"
      }
    },
    {
      "cell_type": "markdown",
      "source": [
        "##  2.  Zero2Hero   primera parte\n",
        "Se han lanzado los primeros fascículos coleccionables llamados \"from Zero to Hero\" que muy detalladamente, paso a paso enseñan todo lo necesario de R para entender los scripts oficiales de la asignatura.\n",
        "Están en el repositorio oficial de la asignatura, carpeta  **src/zero2hero**"
      ],
      "metadata": {
        "id": "NQcY8u2MDSLT"
      }
    },
    {
      "cell_type": "markdown",
      "source": [
        "\n",
        "\n",
        "---\n",
        "\n"
      ],
      "metadata": {
        "id": "GcO0OSiIEAGy"
      }
    },
    {
      "cell_type": "markdown",
      "source": [
        "## 3.  Grid Search"
      ],
      "metadata": {
        "id": "6MStcyn0EBdT"
      }
    },
    {
      "cell_type": "markdown",
      "source": [
        "Busque en internet el precido significado de los hiperparámetros de la librería **rpart**  que está implementando el algoritmo **CART**  Classification and Regression Trees  propuesto en el año 1984 por Leo Brieman:\n",
        "\n",
        "*   cp\n",
        "*   maxdepth\n",
        "*   minsplit\n",
        "*   minbucket\n",
        "\n",
        "Entienda que valores es razonable tome cada hiperparámetro,  en particular profundice en el hiperparámetro  **cp**  y la posibilidad que tome valores negativos.  Es válido consultar a su amigo de *capacidades especiales*  ChatGPT\n"
      ],
      "metadata": {
        "id": "gM8RKXDgEIY0"
      }
    },
    {
      "cell_type": "markdown",
      "source": [
        "En las siguientes celdas a un notebook incompleto, un esqueleto de codigo brindado a modo de facilitarle la tarea de codeo y permitir que su valiosa cognición se concentre temas conceptuales de Ciencia de Datos\n",
        "\n",
        "Modifiquelo agregando loops para que recorra TODOS los hiperparámetros de rpart  < cp, maxdepth, minsplit, minbucket >, y luego póngalo a correr. Recuerde cambiar por SU semilla\n",
        "Tenga muy presente la granularidad que eligirá para cada hiperparámetro."
      ],
      "metadata": {
        "id": "_k7eT3HIFy9y"
      }
    },
    {
      "cell_type": "markdown",
      "source": [
        "### Seteo del ambiente en Google Colab"
      ],
      "metadata": {
        "id": "kmLygy1TYPfg"
      }
    },
    {
      "cell_type": "markdown",
      "source": [
        "Esta parte se debe correr con el runtime en Python3\n",
        "<br>Ir al menu, Runtime -> Change Runtime Tipe -> Runtime type ->  **Python 3**"
      ],
      "metadata": {
        "id": "OikOm5K2YU3X"
      }
    },
    {
      "cell_type": "markdown",
      "source": [
        "Conectar la virtual machine donde esta corriendo Google Colab con el  Google Drive, para poder tener persistencia de archivos"
      ],
      "metadata": {
        "id": "4fmV5LyZdFyI"
      }
    },
    {
      "cell_type": "code",
      "source": [
        "# primero establecer el Runtime de Python 3\n",
        "from google.colab import drive\n",
        "drive.mount('/content/.drive')"
      ],
      "metadata": {
        "id": "ilEZ-bE2VybW",
        "outputId": "c76e2f1f-e4f8-4ff0-a5a3-b0b7b0c76d46",
        "colab": {
          "base_uri": "https://localhost:8080/"
        }
      },
      "execution_count": 1,
      "outputs": [
        {
          "output_type": "stream",
          "name": "stdout",
          "text": [
            "Mounted at /content/.drive\n"
          ]
        }
      ]
    },
    {
      "cell_type": "markdown",
      "source": [
        "Para correr la siguiente celda es fundamental en Arranque en Frio haber copiado el archivo kaggle.json al Google Drive, en la carpeta indicada en el instructivo\n",
        "\n",
        "<br>los siguientes comando estan en shell script de Linux\n",
        "*   Crear las carpetas en el Google Drive\n",
        "*   \"instalar\" el archivo kaggle.json desde el Google Drive a la virtual machine para que pueda ser utilizado por la libreria  kaggle de Python\n",
        "*   Bajar el  **dataset_pequeno**  al  Google Drive  y tambien al disco local de la virtual machine que esta corriendo Google Colab\n",
        "\n"
      ],
      "metadata": {
        "id": "ilaKtqWldeWg"
      }
    },
    {
      "cell_type": "code",
      "source": [
        "%%shell\n",
        "\n",
        "mkdir -p \"/content/.drive/My Drive/labo1\"\n",
        "mkdir -p \"/content/buckets\"\n",
        "ln -s \"/content/.drive/My Drive/labo1\" /content/buckets/b1\n",
        "\n",
        "mkdir -p ~/.kaggle\n",
        "cp /content/buckets/b1/kaggle/kaggle.json  ~/.kaggle\n",
        "chmod 600 ~/.kaggle/kaggle.json\n",
        "\n",
        "\n",
        "mkdir -p /content/buckets/b1/exp\n",
        "mkdir -p /content/buckets/b1/datasets\n",
        "mkdir -p /content/datasets\n",
        "\n",
        "\n",
        "\n",
        "archivo_origen=\"https://storage.googleapis.com/open-courses/austral2025-af91/dataset_pequeno.csv\"\n",
        "archivo_destino=\"/content/datasets/dataset_pequeno.csv\"\n",
        "archivo_destino_bucket=\"/content/buckets/b1/datasets/dataset_pequeno.csv\"\n",
        "\n",
        "if ! test -f $archivo_destino_bucket; then\n",
        "  wget  $archivo_origen  -O $archivo_destino_bucket\n",
        "fi\n",
        "\n",
        "\n",
        "if ! test -f $archivo_destino; then\n",
        "  cp  $archivo_destino_bucket  $archivo_destino\n",
        "fi\n",
        "\n"
      ],
      "metadata": {
        "id": "W8dQFI5QYCFa",
        "outputId": "8db75449-91a9-4239-df21-6f2132c47dad",
        "colab": {
          "base_uri": "https://localhost:8080/"
        }
      },
      "execution_count": 2,
      "outputs": [
        {
          "output_type": "execute_result",
          "data": {
            "text/plain": []
          },
          "metadata": {},
          "execution_count": 2
        }
      ]
    },
    {
      "cell_type": "markdown",
      "source": [
        "limpio el ambiente de R"
      ],
      "metadata": {
        "id": "SE94XRhWsxkX"
      }
    },
    {
      "cell_type": "code",
      "source": [
        "# limpio la memoria\n",
        "rm(list=ls(all.names=TRUE)) # remove all objects\n",
        "gc(full=TRUE, verbose=FALSE) # garbage collection"
      ],
      "metadata": {
        "id": "oZG_4br6szlT",
        "outputId": "4988cd25-c56f-4042-da25-ea1ec2055d4a",
        "colab": {
          "base_uri": "https://localhost:8080/",
          "height": 129
        }
      },
      "execution_count": 1,
      "outputs": [
        {
          "output_type": "display_data",
          "data": {
            "text/html": [
              "<table class=\"dataframe\">\n",
              "<caption>A matrix: 2 × 6 of type dbl</caption>\n",
              "<thead>\n",
              "\t<tr><th></th><th scope=col>used</th><th scope=col>(Mb)</th><th scope=col>gc trigger</th><th scope=col>(Mb)</th><th scope=col>max used</th><th scope=col>(Mb)</th></tr>\n",
              "</thead>\n",
              "<tbody>\n",
              "\t<tr><th scope=row>Ncells</th><td> 657245</td><td>35.2</td><td>1454471</td><td>77.7</td><td>1326133</td><td>70.9</td></tr>\n",
              "\t<tr><th scope=row>Vcells</th><td>1220272</td><td> 9.4</td><td>8388608</td><td>64.0</td><td>1975127</td><td>15.1</td></tr>\n",
              "</tbody>\n",
              "</table>\n"
            ],
            "text/markdown": "\nA matrix: 2 × 6 of type dbl\n\n| <!--/--> | used | (Mb) | gc trigger | (Mb) | max used | (Mb) |\n|---|---|---|---|---|---|---|\n| Ncells |  657245 | 35.2 | 1454471 | 77.7 | 1326133 | 70.9 |\n| Vcells | 1220272 |  9.4 | 8388608 | 64.0 | 1975127 | 15.1 |\n\n",
            "text/latex": "A matrix: 2 × 6 of type dbl\n\\begin{tabular}{r|llllll}\n  & used & (Mb) & gc trigger & (Mb) & max used & (Mb)\\\\\n\\hline\n\tNcells &  657245 & 35.2 & 1454471 & 77.7 & 1326133 & 70.9\\\\\n\tVcells & 1220272 &  9.4 & 8388608 & 64.0 & 1975127 & 15.1\\\\\n\\end{tabular}\n",
            "text/plain": [
              "       used    (Mb) gc trigger (Mb) max used (Mb)\n",
              "Ncells  657245 35.2 1454471    77.7 1326133  70.9\n",
              "Vcells 1220272  9.4 8388608    64.0 1975127  15.1"
            ]
          },
          "metadata": {}
        }
      ]
    },
    {
      "cell_type": "code",
      "source": [
        "# cargo las librerias que necesito\n",
        "require(\"data.table\")\n",
        "require(\"rpart\")\n",
        "require(\"parallel\")\n",
        "if (!require(\"primes\")) install.packages(\"primes\")\n",
        "require(\"primes\")"
      ],
      "metadata": {
        "id": "JO-12d7YHkWy",
        "outputId": "72fd80a7-c307-45a0-b327-4515dcaa3c5d",
        "colab": {
          "base_uri": "https://localhost:8080/"
        }
      },
      "execution_count": 2,
      "outputs": [
        {
          "output_type": "stream",
          "name": "stderr",
          "text": [
            "Loading required package: data.table\n",
            "\n",
            "Loading required package: rpart\n",
            "\n",
            "Loading required package: parallel\n",
            "\n",
            "Loading required package: primes\n",
            "\n",
            "Warning message in library(package, lib.loc = lib.loc, character.only = TRUE, logical.return = TRUE, :\n",
            "“there is no package called ‘primes’”\n",
            "Installing package into ‘/usr/local/lib/R/site-library’\n",
            "(as ‘lib’ is unspecified)\n",
            "\n",
            "Loading required package: primes\n",
            "\n"
          ]
        }
      ]
    },
    {
      "cell_type": "markdown",
      "source": [
        "Aqui debe poner SU semiila primigenia"
      ],
      "metadata": {
        "id": "0MclPEJ6Q8Bp"
      }
    },
    {
      "cell_type": "code",
      "source": [
        "PARAM <- list()\n",
        "# reemplazar por su primer semilla\n",
        "PARAM$semilla_primigenia <- 217573\n",
        "PARAM$qsemillas <- 1\n",
        "\n",
        "PARAM$training_pct <- 70L  # entre  1L y 99L\n",
        "\n",
        "# elegir SU dataset comentando/ descomentando\n",
        "PARAM$dataset_nom <- \"~/datasets/dataset_pequeno.csv\""
      ],
      "metadata": {
        "id": "Vt5fC6bWHu5r"
      },
      "execution_count": 3,
      "outputs": []
    },
    {
      "cell_type": "code",
      "source": [
        "# particionar agrega una columna llamada fold a un dataset\n",
        "#  que consiste en una particion estratificada segun agrupa\n",
        "# particionar( data=dataset, division=c(70,30), agrupa=clase_ternaria, seed=semilla)\n",
        "#   crea una particion 70, 30\n",
        "\n",
        "particionar <- function(data, division, agrupa = \"\", campo = \"fold\", start = 1, seed = NA) {\n",
        "  if (!is.na(seed)) set.seed(seed)\n",
        "\n",
        "  bloque <- unlist(mapply(function(x, y) {\n",
        "    rep(y, x)\n",
        "  }, division, seq(from = start, length.out = length(division))))\n",
        "\n",
        "  data[, (campo) := sample(rep(bloque, ceiling(.N / length(bloque))))[1:.N],\n",
        "    by = agrupa\n",
        "  ]\n",
        "}\n"
      ],
      "metadata": {
        "id": "Z1dchsrWH4MD"
      },
      "execution_count": 4,
      "outputs": []
    },
    {
      "cell_type": "code",
      "source": [
        "ArbolEstimarGanancia <- function(semilla, training_pct, param_basicos) {\n",
        "  # particiono estratificadamente el dataset\n",
        "  particionar(dataset,\n",
        "    division = c(training_pct, 100L -training_pct),\n",
        "    agrupa = \"clase_ternaria\",\n",
        "    seed = semilla # aqui se usa SU semilla\n",
        "  )\n",
        "\n",
        "  # genero el modelo\n",
        "  # predecir clase_ternaria a partir del resto\n",
        "  modelo <- rpart(\"clase_ternaria ~ .\",\n",
        "    data = dataset[fold == 1], # fold==1  es training,  el 70% de los datos\n",
        "    xval = 0,\n",
        "    control = param_basicos\n",
        "  ) # aqui van los parametros del arbol\n",
        "\n",
        "  # aplico el modelo a los datos de testing\n",
        "  prediccion <- predict(modelo, # el modelo que genere recien\n",
        "    dataset[fold == 2], # fold==2  es testing, el 30% de los datos\n",
        "    type = \"prob\"\n",
        "  ) # type= \"prob\"  es que devuelva la probabilidad\n",
        "\n",
        "  # prediccion es una matriz con TRES columnas,\n",
        "  #  llamadas \"BAJA+1\", \"BAJA+2\"  y \"CONTINUA\"\n",
        "  # cada columna es el vector de probabilidades\n",
        "\n",
        "\n",
        "  # calculo la ganancia en testing  qu es fold==2\n",
        "  ganancia_test <- dataset[\n",
        "    fold == 2,\n",
        "    sum(ifelse(prediccion[, \"BAJA+2\"] > 0.025,\n",
        "      ifelse(clase_ternaria == \"BAJA+2\", 117000, -3000),\n",
        "      0\n",
        "    ))\n",
        "  ]\n",
        "\n",
        "  # escalo la ganancia como si fuera todo el dataset\n",
        "  ganancia_test_normalizada <- ganancia_test / (( 100 - PARAM$training_pct ) / 100 )\n",
        "\n",
        "  return(\n",
        "    c( list(\"semilla\" = semilla),\n",
        "      param_basicos,\n",
        "      list( \"ganancia_test\" = ganancia_test_normalizada )\n",
        "     )\n",
        "  )\n",
        "}\n"
      ],
      "metadata": {
        "id": "xsHwS1CzIA70"
      },
      "execution_count": 5,
      "outputs": []
    },
    {
      "cell_type": "code",
      "source": [
        "ArbolesMontecarlo <- function(semillas, param_basicos) {\n",
        "\n",
        "  # la funcion mcmapply  llama a la funcion ArbolEstimarGanancia\n",
        "  #  tantas veces como valores tenga el vector  PARAM$semillas\n",
        "  salida <- mcmapply(ArbolEstimarGanancia,\n",
        "    semillas, # paso el vector de semillas\n",
        "    MoreArgs = list(PARAM$training_pct, param_basicos), # aqui paso el segundo parametro\n",
        "    SIMPLIFY = FALSE,\n",
        "    mc.cores = detectCores()\n",
        "  )\n",
        "\n",
        "  return(salida)\n",
        "}\n"
      ],
      "metadata": {
        "id": "BvBVOuhqIEjD"
      },
      "execution_count": 6,
      "outputs": []
    },
    {
      "cell_type": "code",
      "source": [
        "# carpeta de trabajo\n",
        "# por fabor cambiar numero de experimento si se cambia el loop principal\n",
        "setwd(\"/content/buckets/b1/exp\")\n",
        "experimento <- \"HT2901\"\n",
        "dir.create(experimento, showWarnings=FALSE)\n",
        "setwd( paste0(\"/content/buckets/b1/exp/\", experimento ))"
      ],
      "metadata": {
        "id": "L-DOGHOjIG7G"
      },
      "execution_count": 19,
      "outputs": []
    },
    {
      "cell_type": "code",
      "source": [
        "# lectura del dataset\n",
        "dataset <- fread(\"/content/datasets/dataset_pequeno.csv\")\n",
        "\n",
        "# trabajo solo con los datos con clase, es decir 202107\n",
        "dataset <- dataset[clase_ternaria != \"\"]"
      ],
      "metadata": {
        "id": "NM-mrLWcIPo6"
      },
      "execution_count": 20,
      "outputs": []
    },
    {
      "cell_type": "code",
      "source": [
        "# genero numeros primos\n",
        "primos <- generate_primes(min = 100000, max = 1000000)\n",
        "set.seed(PARAM$semilla_primigenia) # inicializo\n",
        "# me quedo con PARAM$qsemillas   semillas\n",
        "PARAM$semillas <- sample(primos, PARAM$qsemillas )\n"
      ],
      "metadata": {
        "id": "tSlY0EcgIWdi"
      },
      "execution_count": 21,
      "outputs": []
    },
    {
      "cell_type": "code",
      "source": [
        "# genero la data.table donde van los resultados detallados del Grid Search\n",
        "# un registro para cada combinacion de < semilla, parametros >\n",
        "\n",
        "if(file.exists(\"gridsearch_detalle.txt\")){\n",
        "  tb_grid_search_detalle <- fread(\"gridsearch_detalle.txt\")\n",
        "}else{\n",
        "  tb_grid_search_detalle <- data.table(\n",
        "    semilla = integer(),\n",
        "    cp = numeric(),\n",
        "    maxdepth = integer(),\n",
        "   minsplit = integer(),\n",
        "    minbucket = integer(),\n",
        "    ganancia_test = numeric()\n",
        "  )\n",
        "}\n",
        "\n",
        "nrow( tb_grid_search_detalle )"
      ],
      "metadata": {
        "id": "xxCAwIKyIaTl",
        "outputId": "a6685724-f86b-4a78-a69a-83c600f5f4a5",
        "colab": {
          "base_uri": "https://localhost:8080/",
          "height": 34
        }
      },
      "execution_count": 22,
      "outputs": [
        {
          "output_type": "display_data",
          "data": {
            "text/html": [
              "0"
            ],
            "text/markdown": "0",
            "text/latex": "0",
            "text/plain": [
              "[1] 0"
            ]
          },
          "metadata": {}
        }
      ]
    },
    {
      "cell_type": "markdown",
      "source": [
        "Esta es la parte del código que usted debe expandir a TODOS los hiperparámetros de rpart,\n",
        "<br>ya que actualmente apenas recorre  maxdepth y  minsplit  dejando fijos  cp=-0.5  y minbucket=5"
      ],
      "metadata": {
        "id": "eAuGBNL8IkOD"
      }
    },
    {
      "cell_type": "code",
      "source": [
        "# itero por los loops anidados para cada hiperparametro\n",
        "iter <- 0\n",
        "\n",
        "# Defino los valores a explorar\n",
        "valores_cp <- c(-1, -0.5, -0.01, 0, 0.001)\n",
        "valores_maxdepth <- c(6, 8, 10, 12)\n",
        "valores_minsplit <- c(400, 800, 1000)\n",
        "valores_minbucket <- c(100, 200, 300)\n",
        "\n",
        "# Itero por los cuatro hiperparámetros\n",
        "for (vcp in valores_cp) {\n",
        "  for (vmax_depth in valores_maxdepth) {\n",
        "    for (vmin_split in valores_minsplit) {\n",
        "      for (vmin_bucket in valores_minbucket) {\n",
        "\n",
        "        iter <- iter + 1\n",
        "        cat(\"Iteración:\", iter, \"\\n\")\n",
        "        flush.console()\n",
        "\n",
        "        if (iter * PARAM$qsemillas < nrow(tb_grid_search_detalle) + 1) next\n",
        "\n",
        "        # Defino los parámetros para este árbol\n",
        "        param_basicos <- list(\n",
        "          \"cp\" = vcp,\n",
        "          \"maxdepth\" = vmax_depth,\n",
        "          \"minsplit\" = vmin_split,\n",
        "          \"minbucket\" = vmin_bucket\n",
        "        )\n",
        "\n",
        "        # Ejecuto Monte Carlo con las semillas\n",
        "        ganancias <- ArbolesMontecarlo(PARAM$semillas, param_basicos)\n",
        "\n",
        "        # Acumulo resultados en la tabla\n",
        "        tb_grid_search_detalle <- rbindlist(\n",
        "          list(tb_grid_search_detalle, rbindlist(ganancias))\n",
        "        )\n",
        "      }\n",
        "    }\n",
        "\n",
        "    # Guardo tabla parcial (backup)\n",
        "    fwrite(tb_grid_search_detalle,\n",
        "      file = \"gridsearch_detalle.txt\",\n",
        "      sep = \"\\t\"\n",
        "    )\n",
        "  }\n",
        "}\n"
      ],
      "metadata": {
        "id": "ipLHm3STIfmb",
        "outputId": "201fb4d3-8fa4-4616-99ac-93506df292c5",
        "colab": {
          "base_uri": "https://localhost:8080/"
        }
      },
      "execution_count": 24,
      "outputs": [
        {
          "output_type": "stream",
          "name": "stdout",
          "text": [
            "Iteración: 1 \n",
            "Iteración: 2 \n",
            "Iteración: 3 \n",
            "Iteración: 4 \n",
            "Iteración: 5 \n",
            "Iteración: 6 \n",
            "Iteración: 7 \n",
            "Iteración: 8 \n",
            "Iteración: 9 \n",
            "Iteración: 10 \n",
            "Iteración: 11 \n",
            "Iteración: 12 \n",
            "Iteración: 13 \n",
            "Iteración: 14 \n",
            "Iteración: 15 \n",
            "Iteración: 16 \n",
            "Iteración: 17 \n",
            "Iteración: 18 \n",
            "Iteración: 19 \n",
            "Iteración: 20 \n",
            "Iteración: 21 \n",
            "Iteración: 22 \n",
            "Iteración: 23 \n",
            "Iteración: 24 \n",
            "Iteración: 25 \n",
            "Iteración: 26 \n",
            "Iteración: 27 \n",
            "Iteración: 28 \n",
            "Iteración: 29 \n",
            "Iteración: 30 \n",
            "Iteración: 31 \n",
            "Iteración: 32 \n",
            "Iteración: 33 \n",
            "Iteración: 34 \n",
            "Iteración: 35 \n",
            "Iteración: 36 \n",
            "Iteración: 37 \n",
            "Iteración: 38 \n",
            "Iteración: 39 \n",
            "Iteración: 40 \n",
            "Iteración: 41 \n",
            "Iteración: 42 \n",
            "Iteración: 43 \n",
            "Iteración: 44 \n",
            "Iteración: 45 \n",
            "Iteración: 46 \n",
            "Iteración: 47 \n",
            "Iteración: 48 \n",
            "Iteración: 49 \n",
            "Iteración: 50 \n",
            "Iteración: 51 \n",
            "Iteración: 52 \n",
            "Iteración: 53 \n",
            "Iteración: 54 \n",
            "Iteración: 55 \n",
            "Iteración: 56 \n",
            "Iteración: 57 \n",
            "Iteración: 58 \n",
            "Iteración: 59 \n",
            "Iteración: 60 \n",
            "Iteración: 61 \n",
            "Iteración: 62 \n",
            "Iteración: 63 \n",
            "Iteración: 64 \n",
            "Iteración: 65 \n",
            "Iteración: 66 \n",
            "Iteración: 67 \n",
            "Iteración: 68 \n",
            "Iteración: 69 \n",
            "Iteración: 70 \n",
            "Iteración: 71 \n",
            "Iteración: 72 \n",
            "Iteración: 73 \n",
            "Iteración: 74 \n",
            "Iteración: 75 \n",
            "Iteración: 76 \n",
            "Iteración: 77 \n",
            "Iteración: 78 \n",
            "Iteración: 79 \n",
            "Iteración: 80 \n",
            "Iteración: 81 \n",
            "Iteración: 82 \n",
            "Iteración: 83 \n",
            "Iteración: 84 \n",
            "Iteración: 85 \n",
            "Iteración: 86 \n",
            "Iteración: 87 \n",
            "Iteración: 88 \n",
            "Iteración: 89 \n",
            "Iteración: 90 \n",
            "Iteración: 91 \n",
            "Iteración: 92 \n",
            "Iteración: 93 \n",
            "Iteración: 94 \n",
            "Iteración: 95 \n",
            "Iteración: 96 \n",
            "Iteración: 97 \n",
            "Iteración: 98 \n",
            "Iteración: 99 \n",
            "Iteración: 100 \n",
            "Iteración: 101 \n",
            "Iteración: 102 \n",
            "Iteración: 103 \n",
            "Iteración: 104 \n",
            "Iteración: 105 \n",
            "Iteración: 106 \n",
            "Iteración: 107 \n",
            "Iteración: 108 \n",
            "Iteración: 109 \n",
            "Iteración: 110 \n",
            "Iteración: 111 \n",
            "Iteración: 112 \n",
            "Iteración: 113 \n",
            "Iteración: 114 \n",
            "Iteración: 115 \n",
            "Iteración: 116 \n",
            "Iteración: 117 \n",
            "Iteración: 118 \n",
            "Iteración: 119 \n",
            "Iteración: 120 \n",
            "Iteración: 121 \n",
            "Iteración: 122 \n",
            "Iteración: 123 \n",
            "Iteración: 124 \n",
            "Iteración: 125 \n",
            "Iteración: 126 \n",
            "Iteración: 127 \n",
            "Iteración: 128 \n",
            "Iteración: 129 \n",
            "Iteración: 130 \n",
            "Iteración: 131 \n",
            "Iteración: 132 \n",
            "Iteración: 133 \n",
            "Iteración: 134 \n",
            "Iteración: 135 \n",
            "Iteración: 136 \n",
            "Iteración: 137 \n",
            "Iteración: 138 \n",
            "Iteración: 139 \n",
            "Iteración: 140 \n",
            "Iteración: 141 \n",
            "Iteración: 142 \n",
            "Iteración: 143 \n",
            "Iteración: 144 \n",
            "Iteración: 145 \n",
            "Iteración: 146 \n",
            "Iteración: 147 \n",
            "Iteración: 148 \n",
            "Iteración: 149 \n",
            "Iteración: 150 \n",
            "Iteración: 151 \n",
            "Iteración: 152 \n",
            "Iteración: 153 \n",
            "Iteración: 154 \n",
            "Iteración: 155 \n",
            "Iteración: 156 \n",
            "Iteración: 157 \n",
            "Iteración: 158 \n",
            "Iteración: 159 \n",
            "Iteración: 160 \n",
            "Iteración: 161 \n",
            "Iteración: 162 \n",
            "Iteración: 163 \n",
            "Iteración: 164 \n",
            "Iteración: 165 \n",
            "Iteración: 166 \n",
            "Iteración: 167 \n",
            "Iteración: 168 \n",
            "Iteración: 169 \n",
            "Iteración: 170 \n",
            "Iteración: 171 \n",
            "Iteración: 172 \n",
            "Iteración: 173 \n",
            "Iteración: 174 \n",
            "Iteración: 175 \n",
            "Iteración: 176 \n",
            "Iteración: 177 \n",
            "Iteración: 178 \n",
            "Iteración: 179 \n",
            "Iteración: 180 \n"
          ]
        }
      ]
    },
    {
      "cell_type": "code",
      "source": [
        "fwrite( tb_grid_search_detalle,\n",
        "   file = \"gridsearch_detalle.txt\",\n",
        "   sep = \"\\t\"\n",
        ")"
      ],
      "metadata": {
        "id": "WZaSqYBxiDFu"
      },
      "execution_count": 25,
      "outputs": []
    },
    {
      "cell_type": "code",
      "source": [
        "# cantidad de registros de la tabla\n",
        "nrow(tb_grid_search_detalle)"
      ],
      "metadata": {
        "id": "STp0duM-RYVJ",
        "outputId": "e301c2b4-6e1f-4bc7-e333-e23053e7efa9",
        "colab": {
          "base_uri": "https://localhost:8080/",
          "height": 34
        }
      },
      "execution_count": 26,
      "outputs": [
        {
          "output_type": "display_data",
          "data": {
            "text/html": [
              "180"
            ],
            "text/markdown": "180",
            "text/latex": "180",
            "text/plain": [
              "[1] 180"
            ]
          },
          "metadata": {}
        }
      ]
    },
    {
      "cell_type": "code",
      "source": [
        "# muestro la tabla\n",
        "tb_grid_search_detalle"
      ],
      "metadata": {
        "id": "k7fhk_H0iNez",
        "outputId": "cd858db8-e6cf-44d1-de51-96a60b574267",
        "colab": {
          "base_uri": "https://localhost:8080/",
          "height": 1000
        }
      },
      "execution_count": 27,
      "outputs": [
        {
          "output_type": "display_data",
          "data": {
            "text/html": [
              "<table class=\"dataframe\">\n",
              "<caption>A data.table: 180 × 6</caption>\n",
              "<thead>\n",
              "\t<tr><th scope=col>semilla</th><th scope=col>cp</th><th scope=col>maxdepth</th><th scope=col>minsplit</th><th scope=col>minbucket</th><th scope=col>ganancia_test</th></tr>\n",
              "\t<tr><th scope=col>&lt;int&gt;</th><th scope=col>&lt;dbl&gt;</th><th scope=col>&lt;dbl&gt;</th><th scope=col>&lt;dbl&gt;</th><th scope=col>&lt;dbl&gt;</th><th scope=col>&lt;dbl&gt;</th></tr>\n",
              "</thead>\n",
              "<tbody>\n",
              "\t<tr><td>104021</td><td>-1</td><td> 6</td><td> 400</td><td>100</td><td>52680000</td></tr>\n",
              "\t<tr><td>104021</td><td>-1</td><td> 6</td><td> 400</td><td>200</td><td>53500000</td></tr>\n",
              "\t<tr><td>104021</td><td>-1</td><td> 6</td><td> 400</td><td>300</td><td>53340000</td></tr>\n",
              "\t<tr><td>104021</td><td>-1</td><td> 6</td><td> 800</td><td>100</td><td>54180000</td></tr>\n",
              "\t<tr><td>104021</td><td>-1</td><td> 6</td><td> 800</td><td>200</td><td>54840000</td></tr>\n",
              "\t<tr><td>104021</td><td>-1</td><td> 6</td><td> 800</td><td>300</td><td>53060000</td></tr>\n",
              "\t<tr><td>104021</td><td>-1</td><td> 6</td><td>1000</td><td>100</td><td>54080000</td></tr>\n",
              "\t<tr><td>104021</td><td>-1</td><td> 6</td><td>1000</td><td>200</td><td>54310000</td></tr>\n",
              "\t<tr><td>104021</td><td>-1</td><td> 6</td><td>1000</td><td>300</td><td>52950000</td></tr>\n",
              "\t<tr><td>104021</td><td>-1</td><td> 8</td><td> 400</td><td>100</td><td>54480000</td></tr>\n",
              "\t<tr><td>104021</td><td>-1</td><td> 8</td><td> 400</td><td>200</td><td>51780000</td></tr>\n",
              "\t<tr><td>104021</td><td>-1</td><td> 8</td><td> 400</td><td>300</td><td>53850000</td></tr>\n",
              "\t<tr><td>104021</td><td>-1</td><td> 8</td><td> 800</td><td>100</td><td>52870000</td></tr>\n",
              "\t<tr><td>104021</td><td>-1</td><td> 8</td><td> 800</td><td>200</td><td>53640000</td></tr>\n",
              "\t<tr><td>104021</td><td>-1</td><td> 8</td><td> 800</td><td>300</td><td>52480000</td></tr>\n",
              "\t<tr><td>104021</td><td>-1</td><td> 8</td><td>1000</td><td>100</td><td>53050000</td></tr>\n",
              "\t<tr><td>104021</td><td>-1</td><td> 8</td><td>1000</td><td>200</td><td>53690000</td></tr>\n",
              "\t<tr><td>104021</td><td>-1</td><td> 8</td><td>1000</td><td>300</td><td>53550000</td></tr>\n",
              "\t<tr><td>104021</td><td>-1</td><td>10</td><td> 400</td><td>100</td><td>50880000</td></tr>\n",
              "\t<tr><td>104021</td><td>-1</td><td>10</td><td> 400</td><td>200</td><td>48620000</td></tr>\n",
              "\t<tr><td>104021</td><td>-1</td><td>10</td><td> 400</td><td>300</td><td>52400000</td></tr>\n",
              "\t<tr><td>104021</td><td>-1</td><td>10</td><td> 800</td><td>100</td><td>49730000</td></tr>\n",
              "\t<tr><td>104021</td><td>-1</td><td>10</td><td> 800</td><td>200</td><td>53610000</td></tr>\n",
              "\t<tr><td>104021</td><td>-1</td><td>10</td><td> 800</td><td>300</td><td>51030000</td></tr>\n",
              "\t<tr><td>104021</td><td>-1</td><td>10</td><td>1000</td><td>100</td><td>50330000</td></tr>\n",
              "\t<tr><td>104021</td><td>-1</td><td>10</td><td>1000</td><td>200</td><td>54990000</td></tr>\n",
              "\t<tr><td>104021</td><td>-1</td><td>10</td><td>1000</td><td>300</td><td>52100000</td></tr>\n",
              "\t<tr><td>104021</td><td>-1</td><td>12</td><td> 400</td><td>100</td><td>49080000</td></tr>\n",
              "\t<tr><td>104021</td><td>-1</td><td>12</td><td> 400</td><td>200</td><td>46420000</td></tr>\n",
              "\t<tr><td>104021</td><td>-1</td><td>12</td><td> 400</td><td>300</td><td>50950000</td></tr>\n",
              "\t<tr><td>⋮</td><td>⋮</td><td>⋮</td><td>⋮</td><td>⋮</td><td>⋮</td></tr>\n",
              "\t<tr><td>104021</td><td>0.001</td><td> 6</td><td>1000</td><td>100</td><td>0</td></tr>\n",
              "\t<tr><td>104021</td><td>0.001</td><td> 6</td><td>1000</td><td>200</td><td>0</td></tr>\n",
              "\t<tr><td>104021</td><td>0.001</td><td> 6</td><td>1000</td><td>300</td><td>0</td></tr>\n",
              "\t<tr><td>104021</td><td>0.001</td><td> 8</td><td> 400</td><td>100</td><td>0</td></tr>\n",
              "\t<tr><td>104021</td><td>0.001</td><td> 8</td><td> 400</td><td>200</td><td>0</td></tr>\n",
              "\t<tr><td>104021</td><td>0.001</td><td> 8</td><td> 400</td><td>300</td><td>0</td></tr>\n",
              "\t<tr><td>104021</td><td>0.001</td><td> 8</td><td> 800</td><td>100</td><td>0</td></tr>\n",
              "\t<tr><td>104021</td><td>0.001</td><td> 8</td><td> 800</td><td>200</td><td>0</td></tr>\n",
              "\t<tr><td>104021</td><td>0.001</td><td> 8</td><td> 800</td><td>300</td><td>0</td></tr>\n",
              "\t<tr><td>104021</td><td>0.001</td><td> 8</td><td>1000</td><td>100</td><td>0</td></tr>\n",
              "\t<tr><td>104021</td><td>0.001</td><td> 8</td><td>1000</td><td>200</td><td>0</td></tr>\n",
              "\t<tr><td>104021</td><td>0.001</td><td> 8</td><td>1000</td><td>300</td><td>0</td></tr>\n",
              "\t<tr><td>104021</td><td>0.001</td><td>10</td><td> 400</td><td>100</td><td>0</td></tr>\n",
              "\t<tr><td>104021</td><td>0.001</td><td>10</td><td> 400</td><td>200</td><td>0</td></tr>\n",
              "\t<tr><td>104021</td><td>0.001</td><td>10</td><td> 400</td><td>300</td><td>0</td></tr>\n",
              "\t<tr><td>104021</td><td>0.001</td><td>10</td><td> 800</td><td>100</td><td>0</td></tr>\n",
              "\t<tr><td>104021</td><td>0.001</td><td>10</td><td> 800</td><td>200</td><td>0</td></tr>\n",
              "\t<tr><td>104021</td><td>0.001</td><td>10</td><td> 800</td><td>300</td><td>0</td></tr>\n",
              "\t<tr><td>104021</td><td>0.001</td><td>10</td><td>1000</td><td>100</td><td>0</td></tr>\n",
              "\t<tr><td>104021</td><td>0.001</td><td>10</td><td>1000</td><td>200</td><td>0</td></tr>\n",
              "\t<tr><td>104021</td><td>0.001</td><td>10</td><td>1000</td><td>300</td><td>0</td></tr>\n",
              "\t<tr><td>104021</td><td>0.001</td><td>12</td><td> 400</td><td>100</td><td>0</td></tr>\n",
              "\t<tr><td>104021</td><td>0.001</td><td>12</td><td> 400</td><td>200</td><td>0</td></tr>\n",
              "\t<tr><td>104021</td><td>0.001</td><td>12</td><td> 400</td><td>300</td><td>0</td></tr>\n",
              "\t<tr><td>104021</td><td>0.001</td><td>12</td><td> 800</td><td>100</td><td>0</td></tr>\n",
              "\t<tr><td>104021</td><td>0.001</td><td>12</td><td> 800</td><td>200</td><td>0</td></tr>\n",
              "\t<tr><td>104021</td><td>0.001</td><td>12</td><td> 800</td><td>300</td><td>0</td></tr>\n",
              "\t<tr><td>104021</td><td>0.001</td><td>12</td><td>1000</td><td>100</td><td>0</td></tr>\n",
              "\t<tr><td>104021</td><td>0.001</td><td>12</td><td>1000</td><td>200</td><td>0</td></tr>\n",
              "\t<tr><td>104021</td><td>0.001</td><td>12</td><td>1000</td><td>300</td><td>0</td></tr>\n",
              "</tbody>\n",
              "</table>\n"
            ],
            "text/markdown": "\nA data.table: 180 × 6\n\n| semilla &lt;int&gt; | cp &lt;dbl&gt; | maxdepth &lt;dbl&gt; | minsplit &lt;dbl&gt; | minbucket &lt;dbl&gt; | ganancia_test &lt;dbl&gt; |\n|---|---|---|---|---|---|\n| 104021 | -1 |  6 |  400 | 100 | 52680000 |\n| 104021 | -1 |  6 |  400 | 200 | 53500000 |\n| 104021 | -1 |  6 |  400 | 300 | 53340000 |\n| 104021 | -1 |  6 |  800 | 100 | 54180000 |\n| 104021 | -1 |  6 |  800 | 200 | 54840000 |\n| 104021 | -1 |  6 |  800 | 300 | 53060000 |\n| 104021 | -1 |  6 | 1000 | 100 | 54080000 |\n| 104021 | -1 |  6 | 1000 | 200 | 54310000 |\n| 104021 | -1 |  6 | 1000 | 300 | 52950000 |\n| 104021 | -1 |  8 |  400 | 100 | 54480000 |\n| 104021 | -1 |  8 |  400 | 200 | 51780000 |\n| 104021 | -1 |  8 |  400 | 300 | 53850000 |\n| 104021 | -1 |  8 |  800 | 100 | 52870000 |\n| 104021 | -1 |  8 |  800 | 200 | 53640000 |\n| 104021 | -1 |  8 |  800 | 300 | 52480000 |\n| 104021 | -1 |  8 | 1000 | 100 | 53050000 |\n| 104021 | -1 |  8 | 1000 | 200 | 53690000 |\n| 104021 | -1 |  8 | 1000 | 300 | 53550000 |\n| 104021 | -1 | 10 |  400 | 100 | 50880000 |\n| 104021 | -1 | 10 |  400 | 200 | 48620000 |\n| 104021 | -1 | 10 |  400 | 300 | 52400000 |\n| 104021 | -1 | 10 |  800 | 100 | 49730000 |\n| 104021 | -1 | 10 |  800 | 200 | 53610000 |\n| 104021 | -1 | 10 |  800 | 300 | 51030000 |\n| 104021 | -1 | 10 | 1000 | 100 | 50330000 |\n| 104021 | -1 | 10 | 1000 | 200 | 54990000 |\n| 104021 | -1 | 10 | 1000 | 300 | 52100000 |\n| 104021 | -1 | 12 |  400 | 100 | 49080000 |\n| 104021 | -1 | 12 |  400 | 200 | 46420000 |\n| 104021 | -1 | 12 |  400 | 300 | 50950000 |\n| ⋮ | ⋮ | ⋮ | ⋮ | ⋮ | ⋮ |\n| 104021 | 0.001 |  6 | 1000 | 100 | 0 |\n| 104021 | 0.001 |  6 | 1000 | 200 | 0 |\n| 104021 | 0.001 |  6 | 1000 | 300 | 0 |\n| 104021 | 0.001 |  8 |  400 | 100 | 0 |\n| 104021 | 0.001 |  8 |  400 | 200 | 0 |\n| 104021 | 0.001 |  8 |  400 | 300 | 0 |\n| 104021 | 0.001 |  8 |  800 | 100 | 0 |\n| 104021 | 0.001 |  8 |  800 | 200 | 0 |\n| 104021 | 0.001 |  8 |  800 | 300 | 0 |\n| 104021 | 0.001 |  8 | 1000 | 100 | 0 |\n| 104021 | 0.001 |  8 | 1000 | 200 | 0 |\n| 104021 | 0.001 |  8 | 1000 | 300 | 0 |\n| 104021 | 0.001 | 10 |  400 | 100 | 0 |\n| 104021 | 0.001 | 10 |  400 | 200 | 0 |\n| 104021 | 0.001 | 10 |  400 | 300 | 0 |\n| 104021 | 0.001 | 10 |  800 | 100 | 0 |\n| 104021 | 0.001 | 10 |  800 | 200 | 0 |\n| 104021 | 0.001 | 10 |  800 | 300 | 0 |\n| 104021 | 0.001 | 10 | 1000 | 100 | 0 |\n| 104021 | 0.001 | 10 | 1000 | 200 | 0 |\n| 104021 | 0.001 | 10 | 1000 | 300 | 0 |\n| 104021 | 0.001 | 12 |  400 | 100 | 0 |\n| 104021 | 0.001 | 12 |  400 | 200 | 0 |\n| 104021 | 0.001 | 12 |  400 | 300 | 0 |\n| 104021 | 0.001 | 12 |  800 | 100 | 0 |\n| 104021 | 0.001 | 12 |  800 | 200 | 0 |\n| 104021 | 0.001 | 12 |  800 | 300 | 0 |\n| 104021 | 0.001 | 12 | 1000 | 100 | 0 |\n| 104021 | 0.001 | 12 | 1000 | 200 | 0 |\n| 104021 | 0.001 | 12 | 1000 | 300 | 0 |\n\n",
            "text/latex": "A data.table: 180 × 6\n\\begin{tabular}{llllll}\n semilla & cp & maxdepth & minsplit & minbucket & ganancia\\_test\\\\\n <int> & <dbl> & <dbl> & <dbl> & <dbl> & <dbl>\\\\\n\\hline\n\t 104021 & -1 &  6 &  400 & 100 & 52680000\\\\\n\t 104021 & -1 &  6 &  400 & 200 & 53500000\\\\\n\t 104021 & -1 &  6 &  400 & 300 & 53340000\\\\\n\t 104021 & -1 &  6 &  800 & 100 & 54180000\\\\\n\t 104021 & -1 &  6 &  800 & 200 & 54840000\\\\\n\t 104021 & -1 &  6 &  800 & 300 & 53060000\\\\\n\t 104021 & -1 &  6 & 1000 & 100 & 54080000\\\\\n\t 104021 & -1 &  6 & 1000 & 200 & 54310000\\\\\n\t 104021 & -1 &  6 & 1000 & 300 & 52950000\\\\\n\t 104021 & -1 &  8 &  400 & 100 & 54480000\\\\\n\t 104021 & -1 &  8 &  400 & 200 & 51780000\\\\\n\t 104021 & -1 &  8 &  400 & 300 & 53850000\\\\\n\t 104021 & -1 &  8 &  800 & 100 & 52870000\\\\\n\t 104021 & -1 &  8 &  800 & 200 & 53640000\\\\\n\t 104021 & -1 &  8 &  800 & 300 & 52480000\\\\\n\t 104021 & -1 &  8 & 1000 & 100 & 53050000\\\\\n\t 104021 & -1 &  8 & 1000 & 200 & 53690000\\\\\n\t 104021 & -1 &  8 & 1000 & 300 & 53550000\\\\\n\t 104021 & -1 & 10 &  400 & 100 & 50880000\\\\\n\t 104021 & -1 & 10 &  400 & 200 & 48620000\\\\\n\t 104021 & -1 & 10 &  400 & 300 & 52400000\\\\\n\t 104021 & -1 & 10 &  800 & 100 & 49730000\\\\\n\t 104021 & -1 & 10 &  800 & 200 & 53610000\\\\\n\t 104021 & -1 & 10 &  800 & 300 & 51030000\\\\\n\t 104021 & -1 & 10 & 1000 & 100 & 50330000\\\\\n\t 104021 & -1 & 10 & 1000 & 200 & 54990000\\\\\n\t 104021 & -1 & 10 & 1000 & 300 & 52100000\\\\\n\t 104021 & -1 & 12 &  400 & 100 & 49080000\\\\\n\t 104021 & -1 & 12 &  400 & 200 & 46420000\\\\\n\t 104021 & -1 & 12 &  400 & 300 & 50950000\\\\\n\t ⋮ & ⋮ & ⋮ & ⋮ & ⋮ & ⋮\\\\\n\t 104021 & 0.001 &  6 & 1000 & 100 & 0\\\\\n\t 104021 & 0.001 &  6 & 1000 & 200 & 0\\\\\n\t 104021 & 0.001 &  6 & 1000 & 300 & 0\\\\\n\t 104021 & 0.001 &  8 &  400 & 100 & 0\\\\\n\t 104021 & 0.001 &  8 &  400 & 200 & 0\\\\\n\t 104021 & 0.001 &  8 &  400 & 300 & 0\\\\\n\t 104021 & 0.001 &  8 &  800 & 100 & 0\\\\\n\t 104021 & 0.001 &  8 &  800 & 200 & 0\\\\\n\t 104021 & 0.001 &  8 &  800 & 300 & 0\\\\\n\t 104021 & 0.001 &  8 & 1000 & 100 & 0\\\\\n\t 104021 & 0.001 &  8 & 1000 & 200 & 0\\\\\n\t 104021 & 0.001 &  8 & 1000 & 300 & 0\\\\\n\t 104021 & 0.001 & 10 &  400 & 100 & 0\\\\\n\t 104021 & 0.001 & 10 &  400 & 200 & 0\\\\\n\t 104021 & 0.001 & 10 &  400 & 300 & 0\\\\\n\t 104021 & 0.001 & 10 &  800 & 100 & 0\\\\\n\t 104021 & 0.001 & 10 &  800 & 200 & 0\\\\\n\t 104021 & 0.001 & 10 &  800 & 300 & 0\\\\\n\t 104021 & 0.001 & 10 & 1000 & 100 & 0\\\\\n\t 104021 & 0.001 & 10 & 1000 & 200 & 0\\\\\n\t 104021 & 0.001 & 10 & 1000 & 300 & 0\\\\\n\t 104021 & 0.001 & 12 &  400 & 100 & 0\\\\\n\t 104021 & 0.001 & 12 &  400 & 200 & 0\\\\\n\t 104021 & 0.001 & 12 &  400 & 300 & 0\\\\\n\t 104021 & 0.001 & 12 &  800 & 100 & 0\\\\\n\t 104021 & 0.001 & 12 &  800 & 200 & 0\\\\\n\t 104021 & 0.001 & 12 &  800 & 300 & 0\\\\\n\t 104021 & 0.001 & 12 & 1000 & 100 & 0\\\\\n\t 104021 & 0.001 & 12 & 1000 & 200 & 0\\\\\n\t 104021 & 0.001 & 12 & 1000 & 300 & 0\\\\\n\\end{tabular}\n",
            "text/plain": [
              "    semilla cp    maxdepth minsplit minbucket ganancia_test\n",
              "1   104021  -1     6        400     100       52680000     \n",
              "2   104021  -1     6        400     200       53500000     \n",
              "3   104021  -1     6        400     300       53340000     \n",
              "4   104021  -1     6        800     100       54180000     \n",
              "5   104021  -1     6        800     200       54840000     \n",
              "6   104021  -1     6        800     300       53060000     \n",
              "7   104021  -1     6       1000     100       54080000     \n",
              "8   104021  -1     6       1000     200       54310000     \n",
              "9   104021  -1     6       1000     300       52950000     \n",
              "10  104021  -1     8        400     100       54480000     \n",
              "11  104021  -1     8        400     200       51780000     \n",
              "12  104021  -1     8        400     300       53850000     \n",
              "13  104021  -1     8        800     100       52870000     \n",
              "14  104021  -1     8        800     200       53640000     \n",
              "15  104021  -1     8        800     300       52480000     \n",
              "16  104021  -1     8       1000     100       53050000     \n",
              "17  104021  -1     8       1000     200       53690000     \n",
              "18  104021  -1     8       1000     300       53550000     \n",
              "19  104021  -1    10        400     100       50880000     \n",
              "20  104021  -1    10        400     200       48620000     \n",
              "21  104021  -1    10        400     300       52400000     \n",
              "22  104021  -1    10        800     100       49730000     \n",
              "23  104021  -1    10        800     200       53610000     \n",
              "24  104021  -1    10        800     300       51030000     \n",
              "25  104021  -1    10       1000     100       50330000     \n",
              "26  104021  -1    10       1000     200       54990000     \n",
              "27  104021  -1    10       1000     300       52100000     \n",
              "28  104021  -1    12        400     100       49080000     \n",
              "29  104021  -1    12        400     200       46420000     \n",
              "30  104021  -1    12        400     300       50950000     \n",
              "⋮   ⋮       ⋮     ⋮        ⋮        ⋮         ⋮            \n",
              "151 104021  0.001  6       1000     100       0            \n",
              "152 104021  0.001  6       1000     200       0            \n",
              "153 104021  0.001  6       1000     300       0            \n",
              "154 104021  0.001  8        400     100       0            \n",
              "155 104021  0.001  8        400     200       0            \n",
              "156 104021  0.001  8        400     300       0            \n",
              "157 104021  0.001  8        800     100       0            \n",
              "158 104021  0.001  8        800     200       0            \n",
              "159 104021  0.001  8        800     300       0            \n",
              "160 104021  0.001  8       1000     100       0            \n",
              "161 104021  0.001  8       1000     200       0            \n",
              "162 104021  0.001  8       1000     300       0            \n",
              "163 104021  0.001 10        400     100       0            \n",
              "164 104021  0.001 10        400     200       0            \n",
              "165 104021  0.001 10        400     300       0            \n",
              "166 104021  0.001 10        800     100       0            \n",
              "167 104021  0.001 10        800     200       0            \n",
              "168 104021  0.001 10        800     300       0            \n",
              "169 104021  0.001 10       1000     100       0            \n",
              "170 104021  0.001 10       1000     200       0            \n",
              "171 104021  0.001 10       1000     300       0            \n",
              "172 104021  0.001 12        400     100       0            \n",
              "173 104021  0.001 12        400     200       0            \n",
              "174 104021  0.001 12        400     300       0            \n",
              "175 104021  0.001 12        800     100       0            \n",
              "176 104021  0.001 12        800     200       0            \n",
              "177 104021  0.001 12        800     300       0            \n",
              "178 104021  0.001 12       1000     100       0            \n",
              "179 104021  0.001 12       1000     200       0            \n",
              "180 104021  0.001 12       1000     300       0            "
            ]
          },
          "metadata": {}
        }
      ]
    },
    {
      "cell_type": "code",
      "source": [
        "# genero y grabo el resumen\n",
        "tb_grid_search <- tb_grid_search_detalle[,\n",
        "  list( \"ganancia_mean\" = mean(ganancia_test),\n",
        "    \"qty\" = .N ),\n",
        "  list( cp, maxdepth, minsplit, minbucket )\n",
        "]\n"
      ],
      "metadata": {
        "id": "DjCxtx8bIsgl"
      },
      "execution_count": 28,
      "outputs": []
    },
    {
      "cell_type": "code",
      "source": [
        "# ordeno descendente por ganancia\n",
        "setorder( tb_grid_search, -ganancia_mean )\n"
      ],
      "metadata": {
        "id": "LU29UhL1Ivg5"
      },
      "execution_count": 29,
      "outputs": []
    },
    {
      "cell_type": "code",
      "source": [
        "# veo los 10 mejores hiperparámetros\n",
        "tb_grid_search[1:10]"
      ],
      "metadata": {
        "id": "g-EjGY7aIyWL",
        "outputId": "8ae887b8-275f-4f8b-f5ad-a51d7f532f35",
        "colab": {
          "base_uri": "https://localhost:8080/",
          "height": 412
        }
      },
      "execution_count": 30,
      "outputs": [
        {
          "output_type": "display_data",
          "data": {
            "text/html": [
              "<table class=\"dataframe\">\n",
              "<caption>A data.table: 10 × 6</caption>\n",
              "<thead>\n",
              "\t<tr><th scope=col>cp</th><th scope=col>maxdepth</th><th scope=col>minsplit</th><th scope=col>minbucket</th><th scope=col>ganancia_mean</th><th scope=col>qty</th></tr>\n",
              "\t<tr><th scope=col>&lt;dbl&gt;</th><th scope=col>&lt;dbl&gt;</th><th scope=col>&lt;dbl&gt;</th><th scope=col>&lt;dbl&gt;</th><th scope=col>&lt;dbl&gt;</th><th scope=col>&lt;int&gt;</th></tr>\n",
              "</thead>\n",
              "<tbody>\n",
              "\t<tr><td>-1.00</td><td>10</td><td>1000</td><td>200</td><td>54990000</td><td>1</td></tr>\n",
              "\t<tr><td>-1.00</td><td>12</td><td>1000</td><td>200</td><td>54990000</td><td>1</td></tr>\n",
              "\t<tr><td>-0.50</td><td>10</td><td>1000</td><td>200</td><td>54990000</td><td>1</td></tr>\n",
              "\t<tr><td>-0.50</td><td>12</td><td>1000</td><td>200</td><td>54990000</td><td>1</td></tr>\n",
              "\t<tr><td>-0.01</td><td>10</td><td>1000</td><td>200</td><td>54990000</td><td>1</td></tr>\n",
              "\t<tr><td>-0.01</td><td>12</td><td>1000</td><td>200</td><td>54990000</td><td>1</td></tr>\n",
              "\t<tr><td>-1.00</td><td> 6</td><td> 800</td><td>200</td><td>54840000</td><td>1</td></tr>\n",
              "\t<tr><td>-0.50</td><td> 6</td><td> 800</td><td>200</td><td>54840000</td><td>1</td></tr>\n",
              "\t<tr><td>-0.01</td><td> 6</td><td> 800</td><td>200</td><td>54840000</td><td>1</td></tr>\n",
              "\t<tr><td>-1.00</td><td> 8</td><td> 400</td><td>100</td><td>54480000</td><td>1</td></tr>\n",
              "</tbody>\n",
              "</table>\n"
            ],
            "text/markdown": "\nA data.table: 10 × 6\n\n| cp &lt;dbl&gt; | maxdepth &lt;dbl&gt; | minsplit &lt;dbl&gt; | minbucket &lt;dbl&gt; | ganancia_mean &lt;dbl&gt; | qty &lt;int&gt; |\n|---|---|---|---|---|---|\n| -1.00 | 10 | 1000 | 200 | 54990000 | 1 |\n| -1.00 | 12 | 1000 | 200 | 54990000 | 1 |\n| -0.50 | 10 | 1000 | 200 | 54990000 | 1 |\n| -0.50 | 12 | 1000 | 200 | 54990000 | 1 |\n| -0.01 | 10 | 1000 | 200 | 54990000 | 1 |\n| -0.01 | 12 | 1000 | 200 | 54990000 | 1 |\n| -1.00 |  6 |  800 | 200 | 54840000 | 1 |\n| -0.50 |  6 |  800 | 200 | 54840000 | 1 |\n| -0.01 |  6 |  800 | 200 | 54840000 | 1 |\n| -1.00 |  8 |  400 | 100 | 54480000 | 1 |\n\n",
            "text/latex": "A data.table: 10 × 6\n\\begin{tabular}{llllll}\n cp & maxdepth & minsplit & minbucket & ganancia\\_mean & qty\\\\\n <dbl> & <dbl> & <dbl> & <dbl> & <dbl> & <int>\\\\\n\\hline\n\t -1.00 & 10 & 1000 & 200 & 54990000 & 1\\\\\n\t -1.00 & 12 & 1000 & 200 & 54990000 & 1\\\\\n\t -0.50 & 10 & 1000 & 200 & 54990000 & 1\\\\\n\t -0.50 & 12 & 1000 & 200 & 54990000 & 1\\\\\n\t -0.01 & 10 & 1000 & 200 & 54990000 & 1\\\\\n\t -0.01 & 12 & 1000 & 200 & 54990000 & 1\\\\\n\t -1.00 &  6 &  800 & 200 & 54840000 & 1\\\\\n\t -0.50 &  6 &  800 & 200 & 54840000 & 1\\\\\n\t -0.01 &  6 &  800 & 200 & 54840000 & 1\\\\\n\t -1.00 &  8 &  400 & 100 & 54480000 & 1\\\\\n\\end{tabular}\n",
            "text/plain": [
              "   cp    maxdepth minsplit minbucket ganancia_mean qty\n",
              "1  -1.00 10       1000     200       54990000      1  \n",
              "2  -1.00 12       1000     200       54990000      1  \n",
              "3  -0.50 10       1000     200       54990000      1  \n",
              "4  -0.50 12       1000     200       54990000      1  \n",
              "5  -0.01 10       1000     200       54990000      1  \n",
              "6  -0.01 12       1000     200       54990000      1  \n",
              "7  -1.00  6        800     200       54840000      1  \n",
              "8  -0.50  6        800     200       54840000      1  \n",
              "9  -0.01  6        800     200       54840000      1  \n",
              "10 -1.00  8        400     100       54480000      1  "
            ]
          },
          "metadata": {}
        }
      ]
    },
    {
      "cell_type": "code",
      "source": [
        "# genero un id a la tabla\n",
        "tb_grid_search[, id := .I ]\n",
        "\n",
        "fwrite( tb_grid_search,\n",
        "  file = \"gridsearch.txt\",\n",
        "  sep = \"\\t\"\n",
        ")\n"
      ],
      "metadata": {
        "id": "K3S-I2PTI5ZE"
      },
      "execution_count": 31,
      "outputs": []
    },
    {
      "cell_type": "markdown",
      "source": [
        "# 4.  Análisis de resultados de Grid Search"
      ],
      "metadata": {
        "id": "1rYHk1YkI_9k"
      }
    },
    {
      "cell_type": "markdown",
      "source": [
        "La salida de la corrida anterior queda en ~/buckets/b1/exp/HT2900  que corresponde a su Google Drive\n",
        "<br>HT significa Hyperparameter Tuning\n",
        "<br>El Grid Search es un método de fuerza bruta de un altísimo costo computacional.\n",
        "<br>Queremos ver si es posible crear un algoritmo de optimización de hiperparámetros que se ahorre recorrer ciertas porciones muy malas del espacio de búsqueda. Algo del estilo “cada vez que pruebo una combinación de hiperparámetros donde  cp > 1 , la ganancia es muy mala, con lo cual ni vale la pena perder el tiempo explorando en esa region”\n"
      ],
      "metadata": {
        "id": "ZTJgPhMWJHTk"
      }
    },
    {
      "cell_type": "markdown",
      "source": [
        "<br>Levante el archivo de salida gridsearch.txt  a una planilla tipo Excel y analícelo detenidamente\n",
        "<br>Ordene por ganancia_mean descendente\n",
        "<br>\n",
        "<br>El de mayor ganancia_mean  decimos que es el primero del ranking\n",
        "En Zulip, correspondiente channel  #Tarea Hogar 02 , topic Analisis Grid Search   intente contestar estas preguntas:\n",
        "\n",
        "* ¿Qué combinaciones de hiperparámetros poseen una ganancia muy buena?\n",
        "* ¿Hay algun hiperparámetro que para cierto valor siempre genera una ganancia muy mala, a independientemente de lo que valgan los otros hiperparámetros ?\n",
        "* ¿Que combinaciones de hiperparámetros es pésima y hubiera sido bueno ahorrarse esas corridas ?\n",
        "\n",
        "( tiempo estimado 30 minutos, dificultad media )"
      ],
      "metadata": {
        "id": "IaVgMu4tPwyB"
      }
    }
  ]
}