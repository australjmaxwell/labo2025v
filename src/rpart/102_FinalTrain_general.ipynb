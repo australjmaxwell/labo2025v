{
  "nbformat": 4,
  "nbformat_minor": 0,
  "metadata": {
    "colab": {
      "provenance": [],
      "include_colab_link": true
    },
    "kernelspec": {
      "name": "python3",
      "display_name": "Python 3"
    },
    "language_info": {
      "name": "python"
    }
  },
  "cells": [
    {
      "cell_type": "markdown",
      "metadata": {
        "id": "view-in-github",
        "colab_type": "text"
      },
      "source": [
        "<a href=\"https://colab.research.google.com/github/australjmaxwell/labo2025v/blob/main/src/rpart/102_FinalTrain_general.ipynb\" target=\"_parent\"><img src=\"https://colab.research.google.com/assets/colab-badge.svg\" alt=\"Open In Colab\"/></a>"
      ]
    },
    {
      "cell_type": "markdown",
      "source": [
        "# Arbol elemental con libreria  rpart"
      ],
      "metadata": {
        "id": "x79hZRjomDop"
      }
    },
    {
      "cell_type": "markdown",
      "source": [
        "## Introduccion"
      ],
      "metadata": {
        "id": "_4490Ry5cqPo"
      }
    },
    {
      "cell_type": "markdown",
      "source": [
        "Este es el primer notebook/script de la materia Laboratorio de Implementacion I, se expone en la primera clase.\n",
        "<br>Se utilizan Arboles de Decision, librería **rpart**,  el primer algoritmo, el más simple que utilizaremos en la materia pero que es el fundamento de los Ensembles de Arboles de Decision tales como  Random Forest y  Gradient Boosting of Decision Trees (XGBoost/LightGBM)\n",
        "<br>La materia posee un dataset con 31 meses, en las primeras clases toda la cohorte, independiente de la modalidad elegida, utilizará **dataset_pequeno** que posee apenas un mes histórico 202107 y obviamente el mes donde se debe realizar la predicción 202109\n",
        "<br>Este primer notebook/script **no** desarrolla todas las etapas necesarias para la generación de un buen modelo, apenas posee la parte final del pipeline/workflow."
      ],
      "metadata": {
        "id": "aAYUcclYjDCi"
      }
    },
    {
      "cell_type": "markdown",
      "source": [
        "### Limitaciones\n",
        "\n"
      ],
      "metadata": {
        "id": "kjl2iZNJjTTn"
      }
    },
    {
      "cell_type": "markdown",
      "source": [
        "Este primer y elemental notebook/script supone estas simplificaciónes:\n",
        "* Solo se dispone del mes 202107 con el campo clase_ternaria completo, es el unico mes donde entrenar\n",
        "* Se decidió previamente, de alguna forma, que la etapa de Final Training se hará sobre TODO el dataset de 202107\n",
        "* Se obtuvieron previamente los hiperparámetros optimos de la libería **rpart** para este problema, mediante algun tipo de busqueda búsqueda.  Esta es la etapa que demandará decenas de horas para quienes opten por la *modalidad Analista Senior*\n",
        "* No se realiza ningun tipo de feature engineering intra-mes\n",
        "* Al no disponer de datos históricos no se realiza ningun tipo de feature engineering histórico\n",
        "* No hay ningun analisis de la calidad de los campos, no se analiza si ocurrió alguna catástrofe ese mes y algun campo no se calculó correctamente\n",
        "* Noy hay ningun tipo de análisis de Data Drifting entre los meses de 202107 y 202109\n",
        "* Obedientemente se trabaja utlizando como clase el campo **clase_ternaria** sin ningun tipo de transformacion\n",
        "\n",
        "\n",
        "<br> Obviamente, a lo largo de la materia se avanzará sobre todas las limitacinoes anteriores."
      ],
      "metadata": {
        "id": "Ls6hLk6Vja_C"
      }
    },
    {
      "cell_type": "markdown",
      "source": [
        "## Seteo del ambiente en Google Colab"
      ],
      "metadata": {
        "id": "kmLygy1TYPfg"
      }
    },
    {
      "cell_type": "markdown",
      "source": [
        "Esta parte se debe correr con el runtime en Python3\n",
        "<br>Ir al menu, Runtime -> Change Runtime Tipe -> Runtime type ->  **Python 3**"
      ],
      "metadata": {
        "id": "OikOm5K2YU3X"
      }
    },
    {
      "cell_type": "markdown",
      "source": [
        "Conectar la virtual machine donde esta corriendo Google Colab con el  Google Drive, para poder tener persistencia de archivos"
      ],
      "metadata": {
        "id": "4fmV5LyZdFyI"
      }
    },
    {
      "cell_type": "code",
      "source": [
        "# primero establecer el Runtime de Python 3\n",
        "from google.colab import drive\n",
        "drive.mount('/content/.drive')"
      ],
      "metadata": {
        "id": "ilEZ-bE2VybW",
        "outputId": "eb96fd3b-eced-4379-c583-4bcdc969784d",
        "colab": {
          "base_uri": "https://localhost:8080/"
        }
      },
      "execution_count": null,
      "outputs": [
        {
          "output_type": "stream",
          "name": "stdout",
          "text": [
            "Mounted at /content/.drive\n"
          ]
        }
      ]
    },
    {
      "cell_type": "markdown",
      "source": [
        "Para correr la siguiente celda es fundamental en Arranque en Frio haber copiado el archivo kaggle.json al Google Drive, en la carpeta indicada en el instructivo\n",
        "\n",
        "<br>los siguientes comando estan en shell script de Linux\n",
        "*   Crear las carpetas en el Google Drive\n",
        "*   \"instalar\" el archivo kaggle.json desde el Google Drive a la virtual machine para que pueda ser utilizado por la libreria  kaggle de Python\n",
        "*   Bajar el  **dataset_pequeno**  al  Google Drive  y tambien al disco local de la virtual machine que esta corriendo Google Colab\n",
        "\n"
      ],
      "metadata": {
        "id": "ilaKtqWldeWg"
      }
    },
    {
      "cell_type": "code",
      "source": [
        "%%shell\n",
        "\n",
        "mkdir -p \"/content/.drive/My Drive/labo1\"\n",
        "mkdir -p \"/content/buckets\"\n",
        "ln -s \"/content/.drive/My Drive/labo1\" /content/buckets/b1\n",
        "\n",
        "mkdir -p ~/.kaggle\n",
        "cp /content/buckets/b1/kaggle/kaggle.json  ~/.kaggle\n",
        "chmod 600 ~/.kaggle/kaggle.json\n",
        "\n",
        "\n",
        "mkdir -p /content/buckets/b1/exp\n",
        "mkdir -p /content/buckets/b1/datasets\n",
        "mkdir -p /content/datasets\n",
        "\n",
        "\n",
        "\n",
        "archivo_origen=\"https://storage.googleapis.com/open-courses/austral2025-af91/dataset_pequeno.csv\"\n",
        "archivo_destino=\"/content/datasets/dataset_pequeno.csv\"\n",
        "archivo_destino_bucket=\"/content/buckets/b1/datasets/dataset_pequeno.csv\"\n",
        "\n",
        "if ! test -f $archivo_destino_bucket; then\n",
        "  wget  $archivo_origen  -O $archivo_destino_bucket\n",
        "fi\n",
        "\n",
        "\n",
        "if ! test -f $archivo_destino; then\n",
        "  cp  $archivo_destino_bucket  $archivo_destino\n",
        "fi\n"
      ],
      "metadata": {
        "id": "W8dQFI5QYCFa"
      },
      "execution_count": null,
      "outputs": []
    },
    {
      "cell_type": "markdown",
      "source": [
        "## Final Train y generacion de la prediccion"
      ],
      "metadata": {
        "id": "GfY5gFQAaWDe"
      }
    },
    {
      "cell_type": "markdown",
      "source": [
        "Esta parte se debe correr con el runtime en lenguaje **R** Ir al menu, Runtime -> Change Runtime Tipe -> Runtime type -> R"
      ],
      "metadata": {
        "id": "SBXPU-_tabMb"
      }
    },
    {
      "cell_type": "markdown",
      "source": [
        "limpio el ambiente de R"
      ],
      "metadata": {
        "id": "SE94XRhWsxkX"
      }
    },
    {
      "cell_type": "code",
      "source": [
        "# limpio la memoria\n",
        "rm(list=ls(all.names=TRUE)) # remove all objects\n",
        "gc(full=TRUE, verbose=FALSE) # garbage collection"
      ],
      "metadata": {
        "id": "oZG_4br6szlT",
        "outputId": "6c32f50e-34fe-4607-947e-a9002468545d",
        "colab": {
          "base_uri": "https://localhost:8080/",
          "height": 129
        }
      },
      "execution_count": null,
      "outputs": [
        {
          "output_type": "display_data",
          "data": {
            "text/html": [
              "<table class=\"dataframe\">\n",
              "<caption>A matrix: 2 × 6 of type dbl</caption>\n",
              "<thead>\n",
              "\t<tr><th></th><th scope=col>used</th><th scope=col>(Mb)</th><th scope=col>gc trigger</th><th scope=col>(Mb)</th><th scope=col>max used</th><th scope=col>(Mb)</th></tr>\n",
              "</thead>\n",
              "<tbody>\n",
              "\t<tr><th scope=row>Ncells</th><td> 657247</td><td>35.2</td><td>1454451</td><td>77.7</td><td>1367417</td><td>73.1</td></tr>\n",
              "\t<tr><th scope=row>Vcells</th><td>1220276</td><td> 9.4</td><td>8388608</td><td>64.0</td><td>1975128</td><td>15.1</td></tr>\n",
              "</tbody>\n",
              "</table>\n"
            ],
            "text/markdown": "\nA matrix: 2 × 6 of type dbl\n\n| <!--/--> | used | (Mb) | gc trigger | (Mb) | max used | (Mb) |\n|---|---|---|---|---|---|---|\n| Ncells |  657247 | 35.2 | 1454451 | 77.7 | 1367417 | 73.1 |\n| Vcells | 1220276 |  9.4 | 8388608 | 64.0 | 1975128 | 15.1 |\n\n",
            "text/latex": "A matrix: 2 × 6 of type dbl\n\\begin{tabular}{r|llllll}\n  & used & (Mb) & gc trigger & (Mb) & max used & (Mb)\\\\\n\\hline\n\tNcells &  657247 & 35.2 & 1454451 & 77.7 & 1367417 & 73.1\\\\\n\tVcells & 1220276 &  9.4 & 8388608 & 64.0 & 1975128 & 15.1\\\\\n\\end{tabular}\n",
            "text/plain": [
              "       used    (Mb) gc trigger (Mb) max used (Mb)\n",
              "Ncells  657247 35.2 1454451    77.7 1367417  73.1\n",
              "Vcells 1220276  9.4 8388608    64.0 1975128  15.1"
            ]
          },
          "metadata": {}
        }
      ]
    },
    {
      "cell_type": "markdown",
      "source": [
        "* Instalacion de la libreria  rpart.plot  para dibujar el arbol\n",
        "* invocacion de las librerias  **data.table**  **rpart** y  **rpart.plot**"
      ],
      "metadata": {
        "id": "3BrrQ47PeEb2"
      }
    },
    {
      "cell_type": "code",
      "source": [
        "# cargo las librerias que necesito\n",
        "require(\"data.table\")\n",
        "require(\"rpart\")\n",
        "if (!require(\"rpart.plot\")) install.packages(\"rpart.plot\")\n",
        "require(\"rpart.plot\")"
      ],
      "metadata": {
        "id": "SxO-0Ql0khn6",
        "outputId": "7cb8f9e7-8d05-4864-aadf-2bfa674c4f80",
        "colab": {
          "base_uri": "https://localhost:8080/"
        }
      },
      "execution_count": null,
      "outputs": [
        {
          "output_type": "stream",
          "name": "stderr",
          "text": [
            "Loading required package: data.table\n",
            "\n",
            "Loading required package: rpart\n",
            "\n",
            "Loading required package: rpart.plot\n",
            "\n",
            "Warning message in library(package, lib.loc = lib.loc, character.only = TRUE, logical.return = TRUE, :\n",
            "“there is no package called ‘rpart.plot’”\n",
            "Installing package into ‘/usr/local/lib/R/site-library’\n",
            "(as ‘lib’ is unspecified)\n",
            "\n",
            "Loading required package: rpart.plot\n",
            "\n"
          ]
        }
      ]
    },
    {
      "cell_type": "markdown",
      "source": [
        "Crear y moverse a la carpeta donde se va a trabajar"
      ],
      "metadata": {
        "id": "apAqiSA2eXSr"
      }
    },
    {
      "cell_type": "code",
      "source": [
        "# carpeta de trabajo\n",
        "setwd(\"/content/buckets/b1/exp\")\n",
        "experimento <- \"KA2001\"\n",
        "dir.create(experimento, showWarnings=FALSE)\n",
        "setwd( paste0(\"/content/buckets/b1/exp/\", experimento ))"
      ],
      "metadata": {
        "id": "u6JQluRzaNlX"
      },
      "execution_count": null,
      "outputs": []
    },
    {
      "cell_type": "markdown",
      "source": [
        "## Final Training"
      ],
      "metadata": {
        "id": "8ZvIUVwIWUTo"
      }
    },
    {
      "cell_type": "markdown",
      "source": [
        "### Final Train Dataset"
      ],
      "metadata": {
        "id": "XLOILuGOXR2J"
      }
    },
    {
      "cell_type": "markdown",
      "source": [
        "Es importante notar que para el entrenamiento final utilizo el mes de 202107 completo sin ningun tipo particion  train/test, aqui no hay random, aqui no hay semillas"
      ],
      "metadata": {
        "id": "xWhnTG7lxQQ-"
      }
    },
    {
      "cell_type": "code",
      "source": [
        "# lectura del dataset\n",
        "dataset <- fread(\"/content/datasets/dataset_pequeno.csv\")\n",
        "dtrain_final <- dataset[foto_mes == 202107] # defino donde voy a entrenar"
      ],
      "metadata": {
        "id": "SguKBIIyaeWK"
      },
      "execution_count": null,
      "outputs": []
    },
    {
      "cell_type": "markdown",
      "source": [
        "### Hyperparameters"
      ],
      "metadata": {
        "id": "HiQCnQPEXcuM"
      }
    },
    {
      "cell_type": "markdown",
      "source": [
        "Aqui los hiperparámetros estan hardcodeados\n",
        "<br> Usted puede jugar con ellos manualmente\n",
        "<br> En las siguientes clases veremos como encontrar previamente los hiperparámetros óptimos, para ser copiados aquí"
      ],
      "metadata": {
        "id": "pfCLuBh4zJ2g"
      }
    },
    {
      "cell_type": "code",
      "source": [
        "param_final <- list (\n",
        "  \"cp\"= -1, # complejidad minima\n",
        "  \"minsplit\"= 400, # minima cantidad de regs en un nodo para hacer el split\n",
        "  \"minbucket\"= 200, # minima cantidad de regs en una hoja\n",
        "  \"maxdepth\"= 10 # profundidad máxima del arbol\n",
        ")"
      ],
      "metadata": {
        "id": "OaCUo3gYXgYV"
      },
      "execution_count": null,
      "outputs": []
    },
    {
      "cell_type": "markdown",
      "source": [
        "### Training"
      ],
      "metadata": {
        "id": "0PBsV__gXqJq"
      }
    },
    {
      "cell_type": "code",
      "source": [
        "# genero el modelo,  aqui se construye el arbol\n",
        "# quiero predecir clase_ternaria a partir de el resto de las variables\n",
        "modelo_final <- rpart(\n",
        "    formula= \"clase_ternaria ~ .\",\n",
        "    data= dtrain_final, # los datos donde voy a entrenar\n",
        "    xval= 0,\n",
        "    control= param_final\n",
        ")\n"
      ],
      "metadata": {
        "id": "SZz1lLIyke0U"
      },
      "execution_count": null,
      "outputs": []
    },
    {
      "cell_type": "markdown",
      "source": [
        "#### Impresion del modelo"
      ],
      "metadata": {
        "id": "nsZbb_9-X9EZ"
      }
    },
    {
      "cell_type": "code",
      "source": [
        "# grafico el arbol\n",
        "options(repr.plot.width=30, repr.plot.height=20 )\n",
        "\n",
        "prp(modelo_final,\n",
        "    extra= 101,\n",
        "    digits= -5,\n",
        "    branch= 1,\n",
        "    type= 4,\n",
        "    varlen= 0,\n",
        "    faclen= 0\n",
        ")"
      ],
      "metadata": {
        "id": "mAVWy614X6hJ",
        "outputId": "3a36e902-80c5-479f-d1a4-0154475b744d",
        "colab": {
          "base_uri": "https://localhost:8080/",
          "height": 1000
        }
      },
      "execution_count": null,
      "outputs": [
        {
          "output_type": "stream",
          "name": "stderr",
          "text": [
            "Warning message:\n",
            "“labs do not fit even at cex 0.15, there may be some overplotting”\n"
          ]
        },
        {
          "output_type": "display_data",
          "data": {
            "text/plain": [
              "plot without title"
            ],
            "image/png": "[encoded data removed]"
          },
          "metadata": {
            "image/png": {
              "width": 1800,
              "height": 1200
            }
          }
        }
      ]
    },
    {
      "cell_type": "markdown",
      "source": [
        "## Dataset Future"
      ],
      "metadata": {
        "id": "xN2ig210f6-N"
      }
    },
    {
      "cell_type": "markdown",
      "source": [
        "Aqui se define el dataset donde quiero hacer la prediccion final, generalmente esto viene dado por el problema y es trivial su eleccion"
      ],
      "metadata": {
        "id": "ZJioDs4Jf-lB"
      }
    },
    {
      "cell_type": "code",
      "source": [
        "dfuture <- dataset[foto_mes == 202109] # defino donde voy a aplicar el modelo"
      ],
      "metadata": {
        "id": "h7JErrOagHbH"
      },
      "execution_count": null,
      "outputs": []
    },
    {
      "cell_type": "markdown",
      "source": [
        "### Scoring"
      ],
      "metadata": {
        "id": "spyjXPVYj6Nk"
      }
    },
    {
      "cell_type": "markdown",
      "source": [
        "Aplico el modelo_final a los datos del futuro"
      ],
      "metadata": {
        "id": "CNMKS5m6gLX-"
      }
    },
    {
      "cell_type": "code",
      "source": [
        "# aplico el modelo a los datos nuevos\n",
        "prediccion <- predict(\n",
        "    object= modelo_final,\n",
        "    newdata= dfuture,\n",
        "    type= \"prob\"\n",
        ")\n",
        "\n",
        "# veo que  quedó en predccion\n",
        "# es una matriz, una linea por registro del dataset dfuture\n",
        "# una columna para cada uno de los valores de la clase\n",
        "prediccion"
      ],
      "metadata": {
        "id": "2iS68RYaZhLJ",
        "outputId": "00fb0b3d-6633-47fd-bf54-8fb0b2b24232",
        "colab": {
          "base_uri": "https://localhost:8080/",
          "height": 1000
        }
      },
      "execution_count": null,
      "outputs": [
        {
          "output_type": "display_data",
          "data": {
            "text/html": [
              "<table class=\"dataframe\">\n",
              "<caption>A matrix: 165093 × 3 of type dbl</caption>\n",
              "<thead>\n",
              "\t<tr><th></th><th scope=col>BAJA+1</th><th scope=col>BAJA+2</th><th scope=col>CONTINUA</th></tr>\n",
              "</thead>\n",
              "<tbody>\n",
              "\t<tr><th scope=row>1</th><td>4.529498e-05</td><td>0.0001585324</td><td>0.9997962</td></tr>\n",
              "\t<tr><th scope=row>2</th><td>4.529498e-05</td><td>0.0001585324</td><td>0.9997962</td></tr>\n",
              "\t<tr><th scope=row>3</th><td>1.932367e-02</td><td>0.0289855072</td><td>0.9516908</td></tr>\n",
              "\t<tr><th scope=row>4</th><td>6.215743e-04</td><td>0.0007345878</td><td>0.9986438</td></tr>\n",
              "\t<tr><th scope=row>5</th><td>6.215743e-04</td><td>0.0007345878</td><td>0.9986438</td></tr>\n",
              "\t<tr><th scope=row>6</th><td>4.529498e-05</td><td>0.0001585324</td><td>0.9997962</td></tr>\n",
              "\t<tr><th scope=row>7</th><td>1.600961e-04</td><td>0.0008004803</td><td>0.9990394</td></tr>\n",
              "\t<tr><th scope=row>8</th><td>6.215743e-04</td><td>0.0007345878</td><td>0.9986438</td></tr>\n",
              "\t<tr><th scope=row>9</th><td>6.215743e-04</td><td>0.0007345878</td><td>0.9986438</td></tr>\n",
              "\t<tr><th scope=row>10</th><td>2.472188e-03</td><td>0.0006180470</td><td>0.9969098</td></tr>\n",
              "\t<tr><th scope=row>11</th><td>4.529498e-05</td><td>0.0001585324</td><td>0.9997962</td></tr>\n",
              "\t<tr><th scope=row>12</th><td>5.000000e-03</td><td>0.0000000000</td><td>0.9950000</td></tr>\n",
              "\t<tr><th scope=row>13</th><td>6.215743e-04</td><td>0.0007345878</td><td>0.9986438</td></tr>\n",
              "\t<tr><th scope=row>14</th><td>1.110935e-03</td><td>0.0009522298</td><td>0.9979368</td></tr>\n",
              "\t<tr><th scope=row>15</th><td>0.000000e+00</td><td>0.0000000000</td><td>1.0000000</td></tr>\n",
              "\t<tr><th scope=row>16</th><td>7.388253e-04</td><td>0.0025858884</td><td>0.9966753</td></tr>\n",
              "\t<tr><th scope=row>17</th><td>4.529498e-05</td><td>0.0001585324</td><td>0.9997962</td></tr>\n",
              "\t<tr><th scope=row>18</th><td>2.794411e-03</td><td>0.0051896208</td><td>0.9920160</td></tr>\n",
              "\t<tr><th scope=row>19</th><td>4.529498e-05</td><td>0.0001585324</td><td>0.9997962</td></tr>\n",
              "\t<tr><th scope=row>20</th><td>4.529498e-05</td><td>0.0001585324</td><td>0.9997962</td></tr>\n",
              "\t<tr><th scope=row>21</th><td>6.215743e-04</td><td>0.0007345878</td><td>0.9986438</td></tr>\n",
              "\t<tr><th scope=row>22</th><td>9.756098e-03</td><td>0.0341463415</td><td>0.9560976</td></tr>\n",
              "\t<tr><th scope=row>23</th><td>4.529498e-05</td><td>0.0001585324</td><td>0.9997962</td></tr>\n",
              "\t<tr><th scope=row>24</th><td>1.110935e-03</td><td>0.0009522298</td><td>0.9979368</td></tr>\n",
              "\t<tr><th scope=row>25</th><td>6.215743e-04</td><td>0.0007345878</td><td>0.9986438</td></tr>\n",
              "\t<tr><th scope=row>26</th><td>1.970443e-02</td><td>0.0197044335</td><td>0.9605911</td></tr>\n",
              "\t<tr><th scope=row>27</th><td>4.048583e-03</td><td>0.0080971660</td><td>0.9878543</td></tr>\n",
              "\t<tr><th scope=row>28</th><td>4.529498e-05</td><td>0.0001585324</td><td>0.9997962</td></tr>\n",
              "\t<tr><th scope=row>29</th><td>6.215743e-04</td><td>0.0007345878</td><td>0.9986438</td></tr>\n",
              "\t<tr><th scope=row>30</th><td>4.529498e-05</td><td>0.0001585324</td><td>0.9997962</td></tr>\n",
              "\t<tr><th scope=row>⋮</th><td>⋮</td><td>⋮</td><td>⋮</td></tr>\n",
              "\t<tr><th scope=row>165064</th><td>0.0036630037</td><td>0.000000000</td><td>0.9963370</td></tr>\n",
              "\t<tr><th scope=row>165065</th><td>0.0036630037</td><td>0.000000000</td><td>0.9963370</td></tr>\n",
              "\t<tr><th scope=row>165066</th><td>0.0036630037</td><td>0.000000000</td><td>0.9963370</td></tr>\n",
              "\t<tr><th scope=row>165067</th><td>0.0036630037</td><td>0.000000000</td><td>0.9963370</td></tr>\n",
              "\t<tr><th scope=row>165068</th><td>0.0036630037</td><td>0.000000000</td><td>0.9963370</td></tr>\n",
              "\t<tr><th scope=row>165069</th><td>0.0036630037</td><td>0.000000000</td><td>0.9963370</td></tr>\n",
              "\t<tr><th scope=row>165070</th><td>0.0036630037</td><td>0.000000000</td><td>0.9963370</td></tr>\n",
              "\t<tr><th scope=row>165071</th><td>0.0000000000</td><td>0.009404389</td><td>0.9905956</td></tr>\n",
              "\t<tr><th scope=row>165072</th><td>0.0036630037</td><td>0.000000000</td><td>0.9963370</td></tr>\n",
              "\t<tr><th scope=row>165073</th><td>0.0036630037</td><td>0.000000000</td><td>0.9963370</td></tr>\n",
              "\t<tr><th scope=row>165074</th><td>0.0036630037</td><td>0.000000000</td><td>0.9963370</td></tr>\n",
              "\t<tr><th scope=row>165075</th><td>0.0036630037</td><td>0.000000000</td><td>0.9963370</td></tr>\n",
              "\t<tr><th scope=row>165076</th><td>0.0610932476</td><td>0.051446945</td><td>0.8874598</td></tr>\n",
              "\t<tr><th scope=row>165077</th><td>0.1364902507</td><td>0.083565460</td><td>0.7799443</td></tr>\n",
              "\t<tr><th scope=row>165078</th><td>0.0036630037</td><td>0.000000000</td><td>0.9963370</td></tr>\n",
              "\t<tr><th scope=row>165079</th><td>0.0036630037</td><td>0.000000000</td><td>0.9963370</td></tr>\n",
              "\t<tr><th scope=row>165080</th><td>0.0036630037</td><td>0.000000000</td><td>0.9963370</td></tr>\n",
              "\t<tr><th scope=row>165081</th><td>0.0036630037</td><td>0.000000000</td><td>0.9963370</td></tr>\n",
              "\t<tr><th scope=row>165082</th><td>0.0036630037</td><td>0.000000000</td><td>0.9963370</td></tr>\n",
              "\t<tr><th scope=row>165083</th><td>0.0036630037</td><td>0.000000000</td><td>0.9963370</td></tr>\n",
              "\t<tr><th scope=row>165084</th><td>0.0003397893</td><td>0.001359157</td><td>0.9983011</td></tr>\n",
              "\t<tr><th scope=row>165085</th><td>0.0036630037</td><td>0.000000000</td><td>0.9963370</td></tr>\n",
              "\t<tr><th scope=row>165086</th><td>0.0036630037</td><td>0.000000000</td><td>0.9963370</td></tr>\n",
              "\t<tr><th scope=row>165087</th><td>0.0036630037</td><td>0.000000000</td><td>0.9963370</td></tr>\n",
              "\t<tr><th scope=row>165088</th><td>0.0036630037</td><td>0.000000000</td><td>0.9963370</td></tr>\n",
              "\t<tr><th scope=row>165089</th><td>0.0315789474</td><td>0.066666667</td><td>0.9017544</td></tr>\n",
              "\t<tr><th scope=row>165090</th><td>0.0045248869</td><td>0.004524887</td><td>0.9909502</td></tr>\n",
              "\t<tr><th scope=row>165091</th><td>0.0036630037</td><td>0.000000000</td><td>0.9963370</td></tr>\n",
              "\t<tr><th scope=row>165092</th><td>0.0036630037</td><td>0.000000000</td><td>0.9963370</td></tr>\n",
              "\t<tr><th scope=row>165093</th><td>0.0036630037</td><td>0.000000000</td><td>0.9963370</td></tr>\n",
              "</tbody>\n",
              "</table>\n"
            ],
            "text/markdown": "\nA matrix: 165093 × 3 of type dbl\n\n| <!--/--> | BAJA+1 | BAJA+2 | CONTINUA |\n|---|---|---|---|\n| 1 | 4.529498e-05 | 0.0001585324 | 0.9997962 |\n| 2 | 4.529498e-05 | 0.0001585324 | 0.9997962 |\n| 3 | 1.932367e-02 | 0.0289855072 | 0.9516908 |\n| 4 | 6.215743e-04 | 0.0007345878 | 0.9986438 |\n| 5 | 6.215743e-04 | 0.0007345878 | 0.9986438 |\n| 6 | 4.529498e-05 | 0.0001585324 | 0.9997962 |\n| 7 | 1.600961e-04 | 0.0008004803 | 0.9990394 |\n| 8 | 6.215743e-04 | 0.0007345878 | 0.9986438 |\n| 9 | 6.215743e-04 | 0.0007345878 | 0.9986438 |\n| 10 | 2.472188e-03 | 0.0006180470 | 0.9969098 |\n| 11 | 4.529498e-05 | 0.0001585324 | 0.9997962 |\n| 12 | 5.000000e-03 | 0.0000000000 | 0.9950000 |\n| 13 | 6.215743e-04 | 0.0007345878 | 0.9986438 |\n| 14 | 1.110935e-03 | 0.0009522298 | 0.9979368 |\n| 15 | 0.000000e+00 | 0.0000000000 | 1.0000000 |\n| 16 | 7.388253e-04 | 0.0025858884 | 0.9966753 |\n| 17 | 4.529498e-05 | 0.0001585324 | 0.9997962 |\n| 18 | 2.794411e-03 | 0.0051896208 | 0.9920160 |\n| 19 | 4.529498e-05 | 0.0001585324 | 0.9997962 |\n| 20 | 4.529498e-05 | 0.0001585324 | 0.9997962 |\n| 21 | 6.215743e-04 | 0.0007345878 | 0.9986438 |\n| 22 | 9.756098e-03 | 0.0341463415 | 0.9560976 |\n| 23 | 4.529498e-05 | 0.0001585324 | 0.9997962 |\n| 24 | 1.110935e-03 | 0.0009522298 | 0.9979368 |\n| 25 | 6.215743e-04 | 0.0007345878 | 0.9986438 |\n| 26 | 1.970443e-02 | 0.0197044335 | 0.9605911 |\n| 27 | 4.048583e-03 | 0.0080971660 | 0.9878543 |\n| 28 | 4.529498e-05 | 0.0001585324 | 0.9997962 |\n| 29 | 6.215743e-04 | 0.0007345878 | 0.9986438 |\n| 30 | 4.529498e-05 | 0.0001585324 | 0.9997962 |\n| ⋮ | ⋮ | ⋮ | ⋮ |\n| 165064 | 0.0036630037 | 0.000000000 | 0.9963370 |\n| 165065 | 0.0036630037 | 0.000000000 | 0.9963370 |\n| 165066 | 0.0036630037 | 0.000000000 | 0.9963370 |\n| 165067 | 0.0036630037 | 0.000000000 | 0.9963370 |\n| 165068 | 0.0036630037 | 0.000000000 | 0.9963370 |\n| 165069 | 0.0036630037 | 0.000000000 | 0.9963370 |\n| 165070 | 0.0036630037 | 0.000000000 | 0.9963370 |\n| 165071 | 0.0000000000 | 0.009404389 | 0.9905956 |\n| 165072 | 0.0036630037 | 0.000000000 | 0.9963370 |\n| 165073 | 0.0036630037 | 0.000000000 | 0.9963370 |\n| 165074 | 0.0036630037 | 0.000000000 | 0.9963370 |\n| 165075 | 0.0036630037 | 0.000000000 | 0.9963370 |\n| 165076 | 0.0610932476 | 0.051446945 | 0.8874598 |\n| 165077 | 0.1364902507 | 0.083565460 | 0.7799443 |\n| 165078 | 0.0036630037 | 0.000000000 | 0.9963370 |\n| 165079 | 0.0036630037 | 0.000000000 | 0.9963370 |\n| 165080 | 0.0036630037 | 0.000000000 | 0.9963370 |\n| 165081 | 0.0036630037 | 0.000000000 | 0.9963370 |\n| 165082 | 0.0036630037 | 0.000000000 | 0.9963370 |\n| 165083 | 0.0036630037 | 0.000000000 | 0.9963370 |\n| 165084 | 0.0003397893 | 0.001359157 | 0.9983011 |\n| 165085 | 0.0036630037 | 0.000000000 | 0.9963370 |\n| 165086 | 0.0036630037 | 0.000000000 | 0.9963370 |\n| 165087 | 0.0036630037 | 0.000000000 | 0.9963370 |\n| 165088 | 0.0036630037 | 0.000000000 | 0.9963370 |\n| 165089 | 0.0315789474 | 0.066666667 | 0.9017544 |\n| 165090 | 0.0045248869 | 0.004524887 | 0.9909502 |\n| 165091 | 0.0036630037 | 0.000000000 | 0.9963370 |\n| 165092 | 0.0036630037 | 0.000000000 | 0.9963370 |\n| 165093 | 0.0036630037 | 0.000000000 | 0.9963370 |\n\n",
            "text/latex": "A matrix: 165093 × 3 of type dbl\n\\begin{tabular}{r|lll}\n  & BAJA+1 & BAJA+2 & CONTINUA\\\\\n\\hline\n\t1 & 4.529498e-05 & 0.0001585324 & 0.9997962\\\\\n\t2 & 4.529498e-05 & 0.0001585324 & 0.9997962\\\\\n\t3 & 1.932367e-02 & 0.0289855072 & 0.9516908\\\\\n\t4 & 6.215743e-04 & 0.0007345878 & 0.9986438\\\\\n\t5 & 6.215743e-04 & 0.0007345878 & 0.9986438\\\\\n\t6 & 4.529498e-05 & 0.0001585324 & 0.9997962\\\\\n\t7 & 1.600961e-04 & 0.0008004803 & 0.9990394\\\\\n\t8 & 6.215743e-04 & 0.0007345878 & 0.9986438\\\\\n\t9 & 6.215743e-04 & 0.0007345878 & 0.9986438\\\\\n\t10 & 2.472188e-03 & 0.0006180470 & 0.9969098\\\\\n\t11 & 4.529498e-05 & 0.0001585324 & 0.9997962\\\\\n\t12 & 5.000000e-03 & 0.0000000000 & 0.9950000\\\\\n\t13 & 6.215743e-04 & 0.0007345878 & 0.9986438\\\\\n\t14 & 1.110935e-03 & 0.0009522298 & 0.9979368\\\\\n\t15 & 0.000000e+00 & 0.0000000000 & 1.0000000\\\\\n\t16 & 7.388253e-04 & 0.0025858884 & 0.9966753\\\\\n\t17 & 4.529498e-05 & 0.0001585324 & 0.9997962\\\\\n\t18 & 2.794411e-03 & 0.0051896208 & 0.9920160\\\\\n\t19 & 4.529498e-05 & 0.0001585324 & 0.9997962\\\\\n\t20 & 4.529498e-05 & 0.0001585324 & 0.9997962\\\\\n\t21 & 6.215743e-04 & 0.0007345878 & 0.9986438\\\\\n\t22 & 9.756098e-03 & 0.0341463415 & 0.9560976\\\\\n\t23 & 4.529498e-05 & 0.0001585324 & 0.9997962\\\\\n\t24 & 1.110935e-03 & 0.0009522298 & 0.9979368\\\\\n\t25 & 6.215743e-04 & 0.0007345878 & 0.9986438\\\\\n\t26 & 1.970443e-02 & 0.0197044335 & 0.9605911\\\\\n\t27 & 4.048583e-03 & 0.0080971660 & 0.9878543\\\\\n\t28 & 4.529498e-05 & 0.0001585324 & 0.9997962\\\\\n\t29 & 6.215743e-04 & 0.0007345878 & 0.9986438\\\\\n\t30 & 4.529498e-05 & 0.0001585324 & 0.9997962\\\\\n\t⋮ & ⋮ & ⋮ & ⋮\\\\\n\t165064 & 0.0036630037 & 0.000000000 & 0.9963370\\\\\n\t165065 & 0.0036630037 & 0.000000000 & 0.9963370\\\\\n\t165066 & 0.0036630037 & 0.000000000 & 0.9963370\\\\\n\t165067 & 0.0036630037 & 0.000000000 & 0.9963370\\\\\n\t165068 & 0.0036630037 & 0.000000000 & 0.9963370\\\\\n\t165069 & 0.0036630037 & 0.000000000 & 0.9963370\\\\\n\t165070 & 0.0036630037 & 0.000000000 & 0.9963370\\\\\n\t165071 & 0.0000000000 & 0.009404389 & 0.9905956\\\\\n\t165072 & 0.0036630037 & 0.000000000 & 0.9963370\\\\\n\t165073 & 0.0036630037 & 0.000000000 & 0.9963370\\\\\n\t165074 & 0.0036630037 & 0.000000000 & 0.9963370\\\\\n\t165075 & 0.0036630037 & 0.000000000 & 0.9963370\\\\\n\t165076 & 0.0610932476 & 0.051446945 & 0.8874598\\\\\n\t165077 & 0.1364902507 & 0.083565460 & 0.7799443\\\\\n\t165078 & 0.0036630037 & 0.000000000 & 0.9963370\\\\\n\t165079 & 0.0036630037 & 0.000000000 & 0.9963370\\\\\n\t165080 & 0.0036630037 & 0.000000000 & 0.9963370\\\\\n\t165081 & 0.0036630037 & 0.000000000 & 0.9963370\\\\\n\t165082 & 0.0036630037 & 0.000000000 & 0.9963370\\\\\n\t165083 & 0.0036630037 & 0.000000000 & 0.9963370\\\\\n\t165084 & 0.0003397893 & 0.001359157 & 0.9983011\\\\\n\t165085 & 0.0036630037 & 0.000000000 & 0.9963370\\\\\n\t165086 & 0.0036630037 & 0.000000000 & 0.9963370\\\\\n\t165087 & 0.0036630037 & 0.000000000 & 0.9963370\\\\\n\t165088 & 0.0036630037 & 0.000000000 & 0.9963370\\\\\n\t165089 & 0.0315789474 & 0.066666667 & 0.9017544\\\\\n\t165090 & 0.0045248869 & 0.004524887 & 0.9909502\\\\\n\t165091 & 0.0036630037 & 0.000000000 & 0.9963370\\\\\n\t165092 & 0.0036630037 & 0.000000000 & 0.9963370\\\\\n\t165093 & 0.0036630037 & 0.000000000 & 0.9963370\\\\\n\\end{tabular}\n",
            "text/plain": [
              "       BAJA+1       BAJA+2       CONTINUA \n",
              "1      4.529498e-05 0.0001585324 0.9997962\n",
              "2      4.529498e-05 0.0001585324 0.9997962\n",
              "3      1.932367e-02 0.0289855072 0.9516908\n",
              "4      6.215743e-04 0.0007345878 0.9986438\n",
              "5      6.215743e-04 0.0007345878 0.9986438\n",
              "6      4.529498e-05 0.0001585324 0.9997962\n",
              "7      1.600961e-04 0.0008004803 0.9990394\n",
              "8      6.215743e-04 0.0007345878 0.9986438\n",
              "9      6.215743e-04 0.0007345878 0.9986438\n",
              "10     2.472188e-03 0.0006180470 0.9969098\n",
              "11     4.529498e-05 0.0001585324 0.9997962\n",
              "12     5.000000e-03 0.0000000000 0.9950000\n",
              "13     6.215743e-04 0.0007345878 0.9986438\n",
              "14     1.110935e-03 0.0009522298 0.9979368\n",
              "15     0.000000e+00 0.0000000000 1.0000000\n",
              "16     7.388253e-04 0.0025858884 0.9966753\n",
              "17     4.529498e-05 0.0001585324 0.9997962\n",
              "18     2.794411e-03 0.0051896208 0.9920160\n",
              "19     4.529498e-05 0.0001585324 0.9997962\n",
              "20     4.529498e-05 0.0001585324 0.9997962\n",
              "21     6.215743e-04 0.0007345878 0.9986438\n",
              "22     9.756098e-03 0.0341463415 0.9560976\n",
              "23     4.529498e-05 0.0001585324 0.9997962\n",
              "24     1.110935e-03 0.0009522298 0.9979368\n",
              "25     6.215743e-04 0.0007345878 0.9986438\n",
              "26     1.970443e-02 0.0197044335 0.9605911\n",
              "27     4.048583e-03 0.0080971660 0.9878543\n",
              "28     4.529498e-05 0.0001585324 0.9997962\n",
              "29     6.215743e-04 0.0007345878 0.9986438\n",
              "30     4.529498e-05 0.0001585324 0.9997962\n",
              "⋮      ⋮            ⋮            ⋮        \n",
              "165064 0.0036630037 0.000000000  0.9963370\n",
              "165065 0.0036630037 0.000000000  0.9963370\n",
              "165066 0.0036630037 0.000000000  0.9963370\n",
              "165067 0.0036630037 0.000000000  0.9963370\n",
              "165068 0.0036630037 0.000000000  0.9963370\n",
              "165069 0.0036630037 0.000000000  0.9963370\n",
              "165070 0.0036630037 0.000000000  0.9963370\n",
              "165071 0.0000000000 0.009404389  0.9905956\n",
              "165072 0.0036630037 0.000000000  0.9963370\n",
              "165073 0.0036630037 0.000000000  0.9963370\n",
              "165074 0.0036630037 0.000000000  0.9963370\n",
              "165075 0.0036630037 0.000000000  0.9963370\n",
              "165076 0.0610932476 0.051446945  0.8874598\n",
              "165077 0.1364902507 0.083565460  0.7799443\n",
              "165078 0.0036630037 0.000000000  0.9963370\n",
              "165079 0.0036630037 0.000000000  0.9963370\n",
              "165080 0.0036630037 0.000000000  0.9963370\n",
              "165081 0.0036630037 0.000000000  0.9963370\n",
              "165082 0.0036630037 0.000000000  0.9963370\n",
              "165083 0.0036630037 0.000000000  0.9963370\n",
              "165084 0.0003397893 0.001359157  0.9983011\n",
              "165085 0.0036630037 0.000000000  0.9963370\n",
              "165086 0.0036630037 0.000000000  0.9963370\n",
              "165087 0.0036630037 0.000000000  0.9963370\n",
              "165088 0.0036630037 0.000000000  0.9963370\n",
              "165089 0.0315789474 0.066666667  0.9017544\n",
              "165090 0.0045248869 0.004524887  0.9909502\n",
              "165091 0.0036630037 0.000000000  0.9963370\n",
              "165092 0.0036630037 0.000000000  0.9963370\n",
              "165093 0.0036630037 0.000000000  0.9963370"
            ]
          },
          "metadata": {}
        }
      ]
    },
    {
      "cell_type": "markdown",
      "source": [
        "## Tabla Prediccion"
      ],
      "metadata": {
        "id": "YgEJUN2ZlLZN"
      }
    },
    {
      "cell_type": "code",
      "source": [
        "tb_prediccion <- as.data.table(list(\n",
        "  \"numero_de_cliente\" = dfuture$numero_de_cliente,\n",
        "  \"prob\"=prediccion[, \"BAJA+2\"]\n",
        "))"
      ],
      "metadata": {
        "id": "-UbcZ6u4lwuK"
      },
      "execution_count": null,
      "outputs": []
    },
    {
      "cell_type": "markdown",
      "source": [
        "## Decision"
      ],
      "metadata": {
        "id": "lbFzDPDwWcnM"
      }
    },
    {
      "cell_type": "code",
      "source": [
        "# decido a quien se envia estimulo y a quien no\n",
        "# como trabajo con clase_ternaria puedo hacer el corte en 1/40\n",
        "# solo le envio estimulo a los registros\n",
        "#  con probabilidad de BAJA+2 mayor  a  1/40\n",
        "\n",
        "tb_prediccion[, Predicted := prob > (1/40) ]\n",
        "\n",
        "# veo que hay en tb_prediccion\n",
        "tb_prediccion"
      ],
      "metadata": {
        "id": "m_8lCAWKWgbu",
        "outputId": "ddc68ee5-7136-4453-9e20-c95b31b5c29f",
        "colab": {
          "base_uri": "https://localhost:8080/",
          "height": 1000
        }
      },
      "execution_count": null,
      "outputs": [
        {
          "output_type": "display_data",
          "data": {
            "text/html": [
              "<table class=\"dataframe\">\n",
              "<caption>A data.table: 165093 × 3</caption>\n",
              "<thead>\n",
              "\t<tr><th scope=col>numero_de_cliente</th><th scope=col>prob</th><th scope=col>Predicted</th></tr>\n",
              "\t<tr><th scope=col>&lt;int&gt;</th><th scope=col>&lt;dbl&gt;</th><th scope=col>&lt;lgl&gt;</th></tr>\n",
              "</thead>\n",
              "<tbody>\n",
              "\t<tr><td>29183733</td><td>0.0001585324</td><td>FALSE</td></tr>\n",
              "\t<tr><td>29184468</td><td>0.0001585324</td><td>FALSE</td></tr>\n",
              "\t<tr><td>29185245</td><td>0.0289855072</td><td> TRUE</td></tr>\n",
              "\t<tr><td>29186441</td><td>0.0007345878</td><td>FALSE</td></tr>\n",
              "\t<tr><td>29186475</td><td>0.0007345878</td><td>FALSE</td></tr>\n",
              "\t<tr><td>29187730</td><td>0.0001585324</td><td>FALSE</td></tr>\n",
              "\t<tr><td>29187764</td><td>0.0008004803</td><td>FALSE</td></tr>\n",
              "\t<tr><td>29187961</td><td>0.0007345878</td><td>FALSE</td></tr>\n",
              "\t<tr><td>29189899</td><td>0.0007345878</td><td>FALSE</td></tr>\n",
              "\t<tr><td>29189993</td><td>0.0006180470</td><td>FALSE</td></tr>\n",
              "\t<tr><td>29190113</td><td>0.0001585324</td><td>FALSE</td></tr>\n",
              "\t<tr><td>29192179</td><td>0.0000000000</td><td>FALSE</td></tr>\n",
              "\t<tr><td>29193101</td><td>0.0007345878</td><td>FALSE</td></tr>\n",
              "\t<tr><td>29193281</td><td>0.0009522298</td><td>FALSE</td></tr>\n",
              "\t<tr><td>29193324</td><td>0.0000000000</td><td>FALSE</td></tr>\n",
              "\t<tr><td>29195356</td><td>0.0025858884</td><td>FALSE</td></tr>\n",
              "\t<tr><td>29195433</td><td>0.0001585324</td><td>FALSE</td></tr>\n",
              "\t<tr><td>29196099</td><td>0.0051896208</td><td>FALSE</td></tr>\n",
              "\t<tr><td>29196902</td><td>0.0001585324</td><td>FALSE</td></tr>\n",
              "\t<tr><td>29198055</td><td>0.0001585324</td><td>FALSE</td></tr>\n",
              "\t<tr><td>29198891</td><td>0.0007345878</td><td>FALSE</td></tr>\n",
              "\t<tr><td>29199242</td><td>0.0341463415</td><td> TRUE</td></tr>\n",
              "\t<tr><td>29200335</td><td>0.0001585324</td><td>FALSE</td></tr>\n",
              "\t<tr><td>29200343</td><td>0.0009522298</td><td>FALSE</td></tr>\n",
              "\t<tr><td>29200514</td><td>0.0007345878</td><td>FALSE</td></tr>\n",
              "\t<tr><td>29200651</td><td>0.0197044335</td><td>FALSE</td></tr>\n",
              "\t<tr><td>29200727</td><td>0.0080971660</td><td>FALSE</td></tr>\n",
              "\t<tr><td>29200770</td><td>0.0001585324</td><td>FALSE</td></tr>\n",
              "\t<tr><td>29200984</td><td>0.0007345878</td><td>FALSE</td></tr>\n",
              "\t<tr><td>29201086</td><td>0.0001585324</td><td>FALSE</td></tr>\n",
              "\t<tr><td>⋮</td><td>⋮</td><td>⋮</td></tr>\n",
              "\t<tr><td>187967614</td><td>0.000000000</td><td>FALSE</td></tr>\n",
              "\t<tr><td>187969270</td><td>0.000000000</td><td>FALSE</td></tr>\n",
              "\t<tr><td>187989740</td><td>0.000000000</td><td>FALSE</td></tr>\n",
              "\t<tr><td>187999433</td><td>0.000000000</td><td>FALSE</td></tr>\n",
              "\t<tr><td>188009390</td><td>0.000000000</td><td>FALSE</td></tr>\n",
              "\t<tr><td>188009578</td><td>0.000000000</td><td>FALSE</td></tr>\n",
              "\t<tr><td>188015094</td><td>0.000000000</td><td>FALSE</td></tr>\n",
              "\t<tr><td>188017716</td><td>0.009404389</td><td>FALSE</td></tr>\n",
              "\t<tr><td>188019279</td><td>0.000000000</td><td>FALSE</td></tr>\n",
              "\t<tr><td>188031482</td><td>0.000000000</td><td>FALSE</td></tr>\n",
              "\t<tr><td>188042080</td><td>0.000000000</td><td>FALSE</td></tr>\n",
              "\t<tr><td>188054394</td><td>0.000000000</td><td>FALSE</td></tr>\n",
              "\t<tr><td>188055368</td><td>0.051446945</td><td> TRUE</td></tr>\n",
              "\t<tr><td>188057878</td><td>0.083565460</td><td> TRUE</td></tr>\n",
              "\t<tr><td>188061679</td><td>0.000000000</td><td>FALSE</td></tr>\n",
              "\t<tr><td>188062558</td><td>0.000000000</td><td>FALSE</td></tr>\n",
              "\t<tr><td>188064497</td><td>0.000000000</td><td>FALSE</td></tr>\n",
              "\t<tr><td>188071815</td><td>0.000000000</td><td>FALSE</td></tr>\n",
              "\t<tr><td>188073113</td><td>0.000000000</td><td>FALSE</td></tr>\n",
              "\t<tr><td>188074787</td><td>0.000000000</td><td>FALSE</td></tr>\n",
              "\t<tr><td>188084847</td><td>0.001359157</td><td>FALSE</td></tr>\n",
              "\t<tr><td>188096188</td><td>0.000000000</td><td>FALSE</td></tr>\n",
              "\t<tr><td>188097537</td><td>0.000000000</td><td>FALSE</td></tr>\n",
              "\t<tr><td>188100654</td><td>0.000000000</td><td>FALSE</td></tr>\n",
              "\t<tr><td>188101739</td><td>0.000000000</td><td>FALSE</td></tr>\n",
              "\t<tr><td>188115120</td><td>0.066666667</td><td> TRUE</td></tr>\n",
              "\t<tr><td>188116871</td><td>0.004524887</td><td>FALSE</td></tr>\n",
              "\t<tr><td>188122277</td><td>0.000000000</td><td>FALSE</td></tr>\n",
              "\t<tr><td>188128903</td><td>0.000000000</td><td>FALSE</td></tr>\n",
              "\t<tr><td>188136205</td><td>0.000000000</td><td>FALSE</td></tr>\n",
              "</tbody>\n",
              "</table>\n"
            ],
            "text/markdown": "\nA data.table: 165093 × 3\n\n| numero_de_cliente &lt;int&gt; | prob &lt;dbl&gt; | Predicted &lt;lgl&gt; |\n|---|---|---|\n| 29183733 | 0.0001585324 | FALSE |\n| 29184468 | 0.0001585324 | FALSE |\n| 29185245 | 0.0289855072 |  TRUE |\n| 29186441 | 0.0007345878 | FALSE |\n| 29186475 | 0.0007345878 | FALSE |\n| 29187730 | 0.0001585324 | FALSE |\n| 29187764 | 0.0008004803 | FALSE |\n| 29187961 | 0.0007345878 | FALSE |\n| 29189899 | 0.0007345878 | FALSE |\n| 29189993 | 0.0006180470 | FALSE |\n| 29190113 | 0.0001585324 | FALSE |\n| 29192179 | 0.0000000000 | FALSE |\n| 29193101 | 0.0007345878 | FALSE |\n| 29193281 | 0.0009522298 | FALSE |\n| 29193324 | 0.0000000000 | FALSE |\n| 29195356 | 0.0025858884 | FALSE |\n| 29195433 | 0.0001585324 | FALSE |\n| 29196099 | 0.0051896208 | FALSE |\n| 29196902 | 0.0001585324 | FALSE |\n| 29198055 | 0.0001585324 | FALSE |\n| 29198891 | 0.0007345878 | FALSE |\n| 29199242 | 0.0341463415 |  TRUE |\n| 29200335 | 0.0001585324 | FALSE |\n| 29200343 | 0.0009522298 | FALSE |\n| 29200514 | 0.0007345878 | FALSE |\n| 29200651 | 0.0197044335 | FALSE |\n| 29200727 | 0.0080971660 | FALSE |\n| 29200770 | 0.0001585324 | FALSE |\n| 29200984 | 0.0007345878 | FALSE |\n| 29201086 | 0.0001585324 | FALSE |\n| ⋮ | ⋮ | ⋮ |\n| 187967614 | 0.000000000 | FALSE |\n| 187969270 | 0.000000000 | FALSE |\n| 187989740 | 0.000000000 | FALSE |\n| 187999433 | 0.000000000 | FALSE |\n| 188009390 | 0.000000000 | FALSE |\n| 188009578 | 0.000000000 | FALSE |\n| 188015094 | 0.000000000 | FALSE |\n| 188017716 | 0.009404389 | FALSE |\n| 188019279 | 0.000000000 | FALSE |\n| 188031482 | 0.000000000 | FALSE |\n| 188042080 | 0.000000000 | FALSE |\n| 188054394 | 0.000000000 | FALSE |\n| 188055368 | 0.051446945 |  TRUE |\n| 188057878 | 0.083565460 |  TRUE |\n| 188061679 | 0.000000000 | FALSE |\n| 188062558 | 0.000000000 | FALSE |\n| 188064497 | 0.000000000 | FALSE |\n| 188071815 | 0.000000000 | FALSE |\n| 188073113 | 0.000000000 | FALSE |\n| 188074787 | 0.000000000 | FALSE |\n| 188084847 | 0.001359157 | FALSE |\n| 188096188 | 0.000000000 | FALSE |\n| 188097537 | 0.000000000 | FALSE |\n| 188100654 | 0.000000000 | FALSE |\n| 188101739 | 0.000000000 | FALSE |\n| 188115120 | 0.066666667 |  TRUE |\n| 188116871 | 0.004524887 | FALSE |\n| 188122277 | 0.000000000 | FALSE |\n| 188128903 | 0.000000000 | FALSE |\n| 188136205 | 0.000000000 | FALSE |\n\n",
            "text/latex": "A data.table: 165093 × 3\n\\begin{tabular}{lll}\n numero\\_de\\_cliente & prob & Predicted\\\\\n <int> & <dbl> & <lgl>\\\\\n\\hline\n\t 29183733 & 0.0001585324 & FALSE\\\\\n\t 29184468 & 0.0001585324 & FALSE\\\\\n\t 29185245 & 0.0289855072 &  TRUE\\\\\n\t 29186441 & 0.0007345878 & FALSE\\\\\n\t 29186475 & 0.0007345878 & FALSE\\\\\n\t 29187730 & 0.0001585324 & FALSE\\\\\n\t 29187764 & 0.0008004803 & FALSE\\\\\n\t 29187961 & 0.0007345878 & FALSE\\\\\n\t 29189899 & 0.0007345878 & FALSE\\\\\n\t 29189993 & 0.0006180470 & FALSE\\\\\n\t 29190113 & 0.0001585324 & FALSE\\\\\n\t 29192179 & 0.0000000000 & FALSE\\\\\n\t 29193101 & 0.0007345878 & FALSE\\\\\n\t 29193281 & 0.0009522298 & FALSE\\\\\n\t 29193324 & 0.0000000000 & FALSE\\\\\n\t 29195356 & 0.0025858884 & FALSE\\\\\n\t 29195433 & 0.0001585324 & FALSE\\\\\n\t 29196099 & 0.0051896208 & FALSE\\\\\n\t 29196902 & 0.0001585324 & FALSE\\\\\n\t 29198055 & 0.0001585324 & FALSE\\\\\n\t 29198891 & 0.0007345878 & FALSE\\\\\n\t 29199242 & 0.0341463415 &  TRUE\\\\\n\t 29200335 & 0.0001585324 & FALSE\\\\\n\t 29200343 & 0.0009522298 & FALSE\\\\\n\t 29200514 & 0.0007345878 & FALSE\\\\\n\t 29200651 & 0.0197044335 & FALSE\\\\\n\t 29200727 & 0.0080971660 & FALSE\\\\\n\t 29200770 & 0.0001585324 & FALSE\\\\\n\t 29200984 & 0.0007345878 & FALSE\\\\\n\t 29201086 & 0.0001585324 & FALSE\\\\\n\t ⋮ & ⋮ & ⋮\\\\\n\t 187967614 & 0.000000000 & FALSE\\\\\n\t 187969270 & 0.000000000 & FALSE\\\\\n\t 187989740 & 0.000000000 & FALSE\\\\\n\t 187999433 & 0.000000000 & FALSE\\\\\n\t 188009390 & 0.000000000 & FALSE\\\\\n\t 188009578 & 0.000000000 & FALSE\\\\\n\t 188015094 & 0.000000000 & FALSE\\\\\n\t 188017716 & 0.009404389 & FALSE\\\\\n\t 188019279 & 0.000000000 & FALSE\\\\\n\t 188031482 & 0.000000000 & FALSE\\\\\n\t 188042080 & 0.000000000 & FALSE\\\\\n\t 188054394 & 0.000000000 & FALSE\\\\\n\t 188055368 & 0.051446945 &  TRUE\\\\\n\t 188057878 & 0.083565460 &  TRUE\\\\\n\t 188061679 & 0.000000000 & FALSE\\\\\n\t 188062558 & 0.000000000 & FALSE\\\\\n\t 188064497 & 0.000000000 & FALSE\\\\\n\t 188071815 & 0.000000000 & FALSE\\\\\n\t 188073113 & 0.000000000 & FALSE\\\\\n\t 188074787 & 0.000000000 & FALSE\\\\\n\t 188084847 & 0.001359157 & FALSE\\\\\n\t 188096188 & 0.000000000 & FALSE\\\\\n\t 188097537 & 0.000000000 & FALSE\\\\\n\t 188100654 & 0.000000000 & FALSE\\\\\n\t 188101739 & 0.000000000 & FALSE\\\\\n\t 188115120 & 0.066666667 &  TRUE\\\\\n\t 188116871 & 0.004524887 & FALSE\\\\\n\t 188122277 & 0.000000000 & FALSE\\\\\n\t 188128903 & 0.000000000 & FALSE\\\\\n\t 188136205 & 0.000000000 & FALSE\\\\\n\\end{tabular}\n",
            "text/plain": [
              "       numero_de_cliente prob         Predicted\n",
              "1      29183733          0.0001585324 FALSE    \n",
              "2      29184468          0.0001585324 FALSE    \n",
              "3      29185245          0.0289855072  TRUE    \n",
              "4      29186441          0.0007345878 FALSE    \n",
              "5      29186475          0.0007345878 FALSE    \n",
              "6      29187730          0.0001585324 FALSE    \n",
              "7      29187764          0.0008004803 FALSE    \n",
              "8      29187961          0.0007345878 FALSE    \n",
              "9      29189899          0.0007345878 FALSE    \n",
              "10     29189993          0.0006180470 FALSE    \n",
              "11     29190113          0.0001585324 FALSE    \n",
              "12     29192179          0.0000000000 FALSE    \n",
              "13     29193101          0.0007345878 FALSE    \n",
              "14     29193281          0.0009522298 FALSE    \n",
              "15     29193324          0.0000000000 FALSE    \n",
              "16     29195356          0.0025858884 FALSE    \n",
              "17     29195433          0.0001585324 FALSE    \n",
              "18     29196099          0.0051896208 FALSE    \n",
              "19     29196902          0.0001585324 FALSE    \n",
              "20     29198055          0.0001585324 FALSE    \n",
              "21     29198891          0.0007345878 FALSE    \n",
              "22     29199242          0.0341463415  TRUE    \n",
              "23     29200335          0.0001585324 FALSE    \n",
              "24     29200343          0.0009522298 FALSE    \n",
              "25     29200514          0.0007345878 FALSE    \n",
              "26     29200651          0.0197044335 FALSE    \n",
              "27     29200727          0.0080971660 FALSE    \n",
              "28     29200770          0.0001585324 FALSE    \n",
              "29     29200984          0.0007345878 FALSE    \n",
              "30     29201086          0.0001585324 FALSE    \n",
              "⋮      ⋮                 ⋮            ⋮        \n",
              "165064 187967614         0.000000000  FALSE    \n",
              "165065 187969270         0.000000000  FALSE    \n",
              "165066 187989740         0.000000000  FALSE    \n",
              "165067 187999433         0.000000000  FALSE    \n",
              "165068 188009390         0.000000000  FALSE    \n",
              "165069 188009578         0.000000000  FALSE    \n",
              "165070 188015094         0.000000000  FALSE    \n",
              "165071 188017716         0.009404389  FALSE    \n",
              "165072 188019279         0.000000000  FALSE    \n",
              "165073 188031482         0.000000000  FALSE    \n",
              "165074 188042080         0.000000000  FALSE    \n",
              "165075 188054394         0.000000000  FALSE    \n",
              "165076 188055368         0.051446945   TRUE    \n",
              "165077 188057878         0.083565460   TRUE    \n",
              "165078 188061679         0.000000000  FALSE    \n",
              "165079 188062558         0.000000000  FALSE    \n",
              "165080 188064497         0.000000000  FALSE    \n",
              "165081 188071815         0.000000000  FALSE    \n",
              "165082 188073113         0.000000000  FALSE    \n",
              "165083 188074787         0.000000000  FALSE    \n",
              "165084 188084847         0.001359157  FALSE    \n",
              "165085 188096188         0.000000000  FALSE    \n",
              "165086 188097537         0.000000000  FALSE    \n",
              "165087 188100654         0.000000000  FALSE    \n",
              "165088 188101739         0.000000000  FALSE    \n",
              "165089 188115120         0.066666667   TRUE    \n",
              "165090 188116871         0.004524887  FALSE    \n",
              "165091 188122277         0.000000000  FALSE    \n",
              "165092 188128903         0.000000000  FALSE    \n",
              "165093 188136205         0.000000000  FALSE    "
            ]
          },
          "metadata": {}
        }
      ]
    },
    {
      "cell_type": "markdown",
      "source": [
        "## Kaggle"
      ],
      "metadata": {
        "id": "x8wauYqsn159"
      }
    },
    {
      "cell_type": "code",
      "source": [
        "# genero el archivo para Kaggle\n",
        "# en el formato requerido por Kaggle\n",
        "# <numero_de_cliente, Predicted>  separados por coma, estension .csv\n",
        "\n",
        "archivo_kaggle <- \"K101_006.csv\"\n",
        "\n",
        "fwrite( tb_prediccion[, list(numero_de_cliente, Predicted)],\n",
        "    file = archivo_kaggle,\n",
        "    sep = \",\"\n",
        ")"
      ],
      "metadata": {
        "id": "F3t1x1FWdNiK"
      },
      "execution_count": null,
      "outputs": []
    },
    {
      "cell_type": "markdown",
      "source": [
        "### Kaggle Competition Submit"
      ],
      "metadata": {
        "id": "fZ2TFi8IjkqS"
      }
    },
    {
      "cell_type": "markdown",
      "source": [
        "Google Colab ya trae instalada una libreria llamada **kaggle** de python, que permite hacer submits a la Plataforma Kaggle"
      ],
      "metadata": {
        "id": "tHgAYi8PfOja"
      }
    },
    {
      "cell_type": "code",
      "source": [
        "comando <- \"kaggle competitions submit\"\n",
        "competencia <- \"-c labo-i-2025-virtual-analista-sr\"\n",
        "arch <- paste( \"-f\", archivo_kaggle)"
      ],
      "metadata": {
        "id": "ssU7YGxzg9ks"
      },
      "execution_count": null,
      "outputs": []
    },
    {
      "cell_type": "code",
      "source": [
        "mensaje <-  paste0( \"-m 'cp=\", param_final$cp, \"  minsplit=\", param_final$minsplit, \"  minbucket=\", param_final$minbucket, \"  maxdepth=\", param_final$maxdepth, \"'\")"
      ],
      "metadata": {
        "id": "SgkMHQU_hbH_"
      },
      "execution_count": null,
      "outputs": []
    },
    {
      "cell_type": "code",
      "source": [
        "linea <- paste( comando, competencia, arch, mensaje)\n",
        "\n",
        "# este el el comando que correria desde el prompt de Linux\n",
        "linea"
      ],
      "metadata": {
        "id": "pxY7faTRiSPm",
        "outputId": "e501da26-6580-420f-9d58-37df59582536",
        "colab": {
          "base_uri": "https://localhost:8080/",
          "height": 34
        }
      },
      "execution_count": null,
      "outputs": [
        {
          "output_type": "display_data",
          "data": {
            "text/html": [
              "<span style=white-space:pre-wrap>'kaggle competitions submit -c labo-i-2025-virtual-analista-sr -f K101_006.csv -m \\'cp=-1  minsplit=400  minbucket=200  maxdepth=10\\''</span>"
            ],
            "text/markdown": "<span style=white-space:pre-wrap>'kaggle competitions submit -c labo-i-2025-virtual-analista-sr -f K101_006.csv -m \\'cp=-1  minsplit=400  minbucket=200  maxdepth=10\\''</span>",
            "text/latex": "'kaggle competitions submit -c labo-i-2025-virtual-analista-sr -f K101\\_006.csv -m \\textbackslash{}'cp=-1  minsplit=400  minbucket=200  maxdepth=10\\textbackslash{}''",
            "text/plain": [
              "[1] \"kaggle competitions submit -c labo-i-2025-virtual-analista-sr -f K101_006.csv -m 'cp=-1  minsplit=400  minbucket=200  maxdepth=10'\""
            ]
          },
          "metadata": {}
        }
      ]
    },
    {
      "cell_type": "code",
      "source": [
        "# ejecuto el comando\n",
        "salida <- system(linea, intern=TRUE)\n",
        "cat(salida)"
      ],
      "metadata": {
        "id": "S_uqWh7KhgQr",
        "outputId": "c32a2407-cdbe-4911-d9fc-2a10440a1e29",
        "colab": {
          "base_uri": "https://localhost:8080/"
        }
      },
      "execution_count": null,
      "outputs": [
        {
          "output_type": "stream",
          "name": "stdout",
          "text": [
            "Successfully submitted to LaboI 2025 virtual analista sr"
          ]
        }
      ]
    },
    {
      "cell_type": "markdown",
      "source": [
        "## Tarea para el Hogar"
      ],
      "metadata": {
        "id": "yOPAzXbyvfVu"
      }
    },
    {
      "cell_type": "markdown",
      "source": [
        "Explorar manualmente que hiperparámetros genera una mayor ganancia en Kaggle\n",
        "<br> Si en un momento logra quedar en primera posición del Private Leaderboard, saquese una selfie"
      ],
      "metadata": {
        "id": "1m6BshdUvjqv"
      }
    }
  ]
}